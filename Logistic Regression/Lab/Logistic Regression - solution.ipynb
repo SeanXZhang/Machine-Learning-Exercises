{
 "cells": [
  {
   "cell_type": "markdown",
   "metadata": {},
   "source": [
    "<img src='https://weclouddata.com/wp-content/uploads/2016/11/logo.png' width='30%'>\n",
    "-------------\n",
    "\n",
    "<h3 align='center'> Applied Machine Learning Course - Lab Week 2 Solutions</h3>\n",
    "<h1 align='center'> Logistic Regression </h1>\n",
    "\n",
    "<br>\n",
    "<center align=\"left\"> Developed by:</center>\n",
    "<center align=\"left\"> WeCloudData Academy </center>\n"
   ]
  },
  {
   "cell_type": "markdown",
   "metadata": {},
   "source": [
    "### Load The Dataset\n",
    "\n",
    "In this exercise, we will be using the wine dataset to demonstrate properties of Logistic Regression.\n",
    "\n",
    "These data are the results of a chemical analysis of wines grown in the same region in Italy but derived from three different cultivars. The analysis determined the quantities of 13 constituents found in each of the three types of wines. \n",
    "\n",
    "The attributes are:\n",
    "1. Alcohol \n",
    "2. Malic acid \n",
    "3. Ash \n",
    "4. Alcalinity of ash \n",
    "5. Magnesium \n",
    "6. Total phenols \n",
    "7. Flavanoids \n",
    "8. Nonflavanoid phenols \n",
    "9. Proanthocyanins \n",
    "10. Color intensity \n",
    "11. Hue \n",
    "12. OD280/OD315 of diluted wines \n",
    "13. Proline \n",
    "\n",
    "In a classification context, this is a well posed problem with \"well behaved\" class structures. A good data set for first testing of a new classifier, but not very challenging.\n",
    "\n",
    "This is an exceedingly simple domain, but provides you with hands-on practice and understanding of how to build a classifier from scratch. \n"
   ]
  },
  {
   "cell_type": "code",
   "execution_count": 1,
   "metadata": {
    "ExecuteTime": {
     "end_time": "2019-06-22T19:46:41.977789Z",
     "start_time": "2019-06-22T19:46:40.986774Z"
    }
   },
   "outputs": [],
   "source": [
    "from sklearn import datasets\n",
    "import matplotlib.pyplot as plt\n",
    "import seaborn as sns\n",
    "import pandas as pd\n",
    "import numpy as np\n",
    "import math\n",
    "\n",
    "%matplotlib inline\n",
    "sns.set(style='ticks', palette='Set2')"
   ]
  },
  {
   "cell_type": "code",
   "execution_count": 2,
   "metadata": {
    "ExecuteTime": {
     "end_time": "2019-06-22T19:46:41.990559Z",
     "start_time": "2019-06-22T19:46:41.979947Z"
    }
   },
   "outputs": [],
   "source": [
    "data = datasets.load_wine() # load the wine dataset\n",
    "\n",
    "X = data.data\n",
    "y = data.target\n",
    "features = data.feature_names\n",
    "target_names = data.target_names"
   ]
  },
  {
   "cell_type": "markdown",
   "metadata": {},
   "source": [
    "## $\\Omega$ Practice : Explore the dataset\n",
    "\n",
    "You can take a look at the shape of the data ($X$), the features, and the target names.\n",
    "\n",
    "1. Print out the shape of the matrix $X$ and the vector $y$. You should expect to see $X.shape[0] == y.shape[0]$\n",
    "2. Print out the content of `features`. You should be seeing 13 individual features inside of it.\n",
    "3. Print out the content of `target_names`. How many classes are there?"
   ]
  },
  {
   "cell_type": "code",
   "execution_count": 3,
   "metadata": {
    "ExecuteTime": {
     "end_time": "2019-06-22T19:46:41.996193Z",
     "start_time": "2019-06-22T19:46:41.992126Z"
    }
   },
   "outputs": [
    {
     "name": "stdout",
     "output_type": "stream",
     "text": [
      "X.shape: (178, 13)\n",
      "y.shape: (178,)\n",
      "13 features: ['alcohol', 'malic_acid', 'ash', 'alcalinity_of_ash', 'magnesium', 'total_phenols', 'flavanoids', 'nonflavanoid_phenols', 'proanthocyanins', 'color_intensity', 'hue', 'od280/od315_of_diluted_wines', 'proline']\n",
      "3 unique targets: ['class_0' 'class_1' 'class_2']\n"
     ]
    }
   ],
   "source": [
    "# TODO: explore the dataset by completing the steps above\n",
    "print(f'X.shape: {X.shape}')\n",
    "print(f'y.shape: {y.shape}')\n",
    "print(f'{len(features)} features: {features}')\n",
    "print(f'{len(target_names)} unique targets: {target_names}')\n",
    "# targets are categorical: \n",
    "# (0 represents 'class_0', 1 represents 'class_1', and 2 represents 'class_2')"
   ]
  },
  {
   "cell_type": "markdown",
   "metadata": {},
   "source": [
    "# $\\Delta$ 1. Visualize class distribution"
   ]
  },
  {
   "cell_type": "markdown",
   "metadata": {},
   "source": [
    "## Plot alcohol vs. ash\n",
    "\n",
    "Let us choose two features and visualization the class distribution in our data set."
   ]
  },
  {
   "cell_type": "code",
   "execution_count": 4,
   "metadata": {
    "ExecuteTime": {
     "end_time": "2019-06-22T19:46:42.155972Z",
     "start_time": "2019-06-22T19:46:41.998430Z"
    }
   },
   "outputs": [
    {
     "data": {
      "image/png": "[encoded data removed]",
      "text/plain": [
       "<Figure size 432x288 with 1 Axes>"
      ]
     },
     "metadata": {
      "needs_background": "light"
     },
     "output_type": "display_data"
    }
   ],
   "source": [
    "class_0_indices = np.where(y == 0)[0] # all the sample indices with class=`class_0`\n",
    "class_0 = plt.scatter(X[class_0_indices,0], X[class_0_indices,1], c='b')\n",
    "\n",
    "class_1_indices = np.where(y == 1)[0] # all the sample indices with class=`class_1`\n",
    "class_1 = plt.scatter(X[class_1_indices,0], X[class_1_indices,1], c='r')\n",
    "\n",
    "class_2_indices = np.where(y == 2)[0] # all the sample indices with class=`class_2`\n",
    "class_2 = plt.scatter(X[class_2_indices,0], X[class_2_indices,1], c='g')\n",
    "\n",
    "plt.xlabel(\"alcohol\")\n",
    "plt.ylabel(\"ash\")\n",
    "plt.legend((class_0, class_1, class_2), (\"class_0\", \"class_1\", \"class_2\"))\n",
    "sns.despine() # remove the top and right spines from plot(s)."
   ]
  },
  {
   "cell_type": "markdown",
   "metadata": {},
   "source": [
    "**Question:** Looking at the plot above, do you think the three classes can be well separated if we just use the two features `alcohol` and `ash` for classification?"
   ]
  },
  {
   "cell_type": "markdown",
   "metadata": {},
   "source": [
    "## Package your visualize function\n",
    "\n",
    "Let's make our visualization function more flexible. If you find yourself writing the same set of code multiple times, just with some small variable change, it's an indicator that you need to wrap them into one single function which you can call again and again later on."
   ]
  },
  {
   "cell_type": "code",
   "execution_count": 5,
   "metadata": {
    "ExecuteTime": {
     "end_time": "2019-06-22T19:46:42.162880Z",
     "start_time": "2019-06-22T19:46:42.158387Z"
    }
   },
   "outputs": [],
   "source": [
    "def visualize_2d(feature_indices, all_feature_names, target_names, X, y):\n",
    "    series = []\n",
    "    # target_names=['class_0' 'class_1' 'class_2']\n",
    "    # targets=[0,1,2]\n",
    "    # assuming `feature_indices` contain two elements\n",
    "    idx1 = feature_indices[0]\n",
    "    idx2 = feature_indices[1]\n",
    "    colors = ['b', 'r', 'g']\n",
    "    for i in range(len(target_names)):\n",
    "        # for each target (\"class_0\", \"class_1\", \"class_2\")\n",
    "        # we create a scatter plot\n",
    "        target_indices = np.where(y == i)[0] # find the indices of data where the target == i\n",
    "        series.append(plt.scatter(X[target_indices, idx1], X[target_indices, idx2], c=colors[i]))\n",
    "        \n",
    "    plt.xlabel(all_feature_names[idx1]) # x-axis represents the first feature value\n",
    "    plt.ylabel(all_feature_names[idx2]) # y-axis represents the second feature value\n",
    "    plt.legend(series, target_names)\n",
    "    sns.despine()"
   ]
  },
  {
   "cell_type": "markdown",
   "metadata": {},
   "source": [
    "The visualization above can now be wrapped as one single function call:"
   ]
  },
  {
   "cell_type": "code",
   "execution_count": 6,
   "metadata": {
    "ExecuteTime": {
     "end_time": "2019-06-22T19:46:42.316424Z",
     "start_time": "2019-06-22T19:46:42.164620Z"
    }
   },
   "outputs": [
    {
     "data": {
      "image/png": "[encoded data removed]",
      "text/plain": [
       "<Figure size 432x288 with 1 Axes>"
      ]
     },
     "metadata": {
      "needs_background": "light"
     },
     "output_type": "display_data"
    }
   ],
   "source": [
    "visualize_2d(feature_indices=[features.index('alcohol'),\n",
    "                              features.index('ash')\n",
    "                             ], \n",
    "             all_feature_names=features,\n",
    "             target_names=target_names,\n",
    "             X=X,\n",
    "             y=y\n",
    "            )"
   ]
  },
  {
   "cell_type": "markdown",
   "metadata": {},
   "source": [
    "## $\\Omega$ Practice: Visualize class distribution with \"color_intensity\" and \"hue\"\n",
    "\n",
    "Now let's perform a similar visualization as above, but with two different features `color_intensity` and `hue`. "
   ]
  },
  {
   "cell_type": "code",
   "execution_count": 7,
   "metadata": {
    "ExecuteTime": {
     "end_time": "2019-06-22T19:46:42.448456Z",
     "start_time": "2019-06-22T19:46:42.317543Z"
    }
   },
   "outputs": [
    {
     "data": {
      "image/png": "[encoded data removed]",
      "text/plain": [
       "<Figure size 432x288 with 1 Axes>"
      ]
     },
     "metadata": {
      "needs_background": "light"
     },
     "output_type": "display_data"
    }
   ],
   "source": [
    "# TODO: visualizae class distribution among the dataset \n",
    "# by projecting the data points with two features only, \"color_intensity\" and \"hue\"\n",
    "\n",
    "visualize_2d(feature_indices=[features.index('color_intensity'),\n",
    "                              features.index('hue')\n",
    "                             ], \n",
    "             all_feature_names=features,\n",
    "             target_names=target_names,\n",
    "             X=X,\n",
    "             y=y\n",
    "            )"
   ]
  },
  {
   "cell_type": "markdown",
   "metadata": {},
   "source": [
    "# $\\Delta$ 2. Data preparation\n",
    "\n",
    "Now let's fit a **binary Logistic Regression classifier** on this set of data.\n",
    "\n",
    "Before doing so, we need to reduce our number of classes from 3 to 2.\n",
    "\n",
    "> Hint: we will merge the two classes which are linearly separable from the third into one single class."
   ]
  },
  {
   "cell_type": "markdown",
   "metadata": {},
   "source": [
    "## Step 1: Merge `class_1` and `class_2` into one class, called `class_1_and_2`"
   ]
  },
  {
   "cell_type": "code",
   "execution_count": 8,
   "metadata": {
    "ExecuteTime": {
     "end_time": "2019-06-22T19:46:42.452540Z",
     "start_time": "2019-06-22T19:46:42.449767Z"
    }
   },
   "outputs": [],
   "source": [
    "# Hint: \n",
    "# 1. find the indices where y != 0 using np.where, and use these indices to reassign y\n",
    "# 2. modify target_names to reflect the change\n",
    "\n",
    "class_1_and_2_indices = np.where(y != 0)[0] # all the sample indices with class!=`1`\n",
    "target_names = ['class_0', 'class_1_and_2']\n",
    "y[class_1_and_2_indices] = 1"
   ]
  },
  {
   "cell_type": "markdown",
   "metadata": {},
   "source": [
    "## $\\Omega$ (Practice)  Step 2:  Count how many `class_0` and `class_1_and_2` there are in your transformed data\n",
    "\n",
    "This step is useful for checking whether the dataset you are dealing with is a balanced one or a highly-skewed one. Highly skewed dataset is particularly challenging for classification, as the classifier would tend to ignore minority class when performing optimization, and result in those minority class performing really poorly in general."
   ]
  },
  {
   "cell_type": "code",
   "execution_count": 9,
   "metadata": {
    "ExecuteTime": {
     "end_time": "2019-06-22T19:46:42.456770Z",
     "start_time": "2019-06-22T19:46:42.454260Z"
    }
   },
   "outputs": [
    {
     "name": "stdout",
     "output_type": "stream",
     "text": [
      "class_0: 59\n",
      "class_1_and_2: 119\n"
     ]
    }
   ],
   "source": [
    "class_0_indices = np.where(y == 0)[0]\n",
    "print(f'class_0: {len(class_0_indices)}')\n",
    "print(f'class_1_and_2: {len(class_1_and_2_indices)}')"
   ]
  },
  {
   "cell_type": "markdown",
   "metadata": {},
   "source": [
    "## Step 3: Dimension reduction (a rough one)\n",
    "\n",
    "Select the two features out of the total 13 and project the dataset onto the two chosen features. Apply this dimension reduction `X_train` and `X_test`.\n",
    "\n",
    "> We are performing a very rudimentory dimension reduction here, simply by choosing two (random) features out of all possible features and discard the rest. In reality, dimension reduction should be performed in a more disciplined manner, which is a topic in the **Advanced Machine Learning** course."
   ]
  },
  {
   "cell_type": "code",
   "execution_count": 10,
   "metadata": {
    "ExecuteTime": {
     "end_time": "2019-06-22T19:46:42.460585Z",
     "start_time": "2019-06-22T19:46:42.457983Z"
    }
   },
   "outputs": [],
   "source": [
    "feature_indices = [2, 6] # or some others as your wish \n",
    "X = X[:, np.array(feature_indices)]"
   ]
  },
  {
   "cell_type": "markdown",
   "metadata": {},
   "source": [
    "## $\\Omega$ Step 4:  (Practice) Visualize your new data points with the same visualize_2d function\n",
    "\n",
    "\n",
    "> Be careful with the `feature_indices` this time, since your `X` is already reduced to 2 dimensions only.\n",
    "\n",
    "\n",
    "**Question**: Does this new dataset, which contain two classes only, is linearly separable by your chosen features?"
   ]
  },
  {
   "cell_type": "code",
   "execution_count": 11,
   "metadata": {
    "ExecuteTime": {
     "end_time": "2019-06-22T19:46:42.599578Z",
     "start_time": "2019-06-22T19:46:42.462333Z"
    }
   },
   "outputs": [
    {
     "data": {
      "image/png": "[encoded data removed]",
      "text/plain": [
       "<Figure size 432x288 with 1 Axes>"
      ]
     },
     "metadata": {
      "needs_background": "light"
     },
     "output_type": "display_data"
    }
   ],
   "source": [
    "visualize_2d(feature_indices=[0,1], all_feature_names=features, target_names=target_names, X=X, y=y)\n"
   ]
  },
  {
   "cell_type": "markdown",
   "metadata": {},
   "source": [
    "## $\\Omega$ Step 5:  (Practice) Split the entire dataset to be 80% training and 20% test (validation)\n",
    "\n",
    "Recall that, in order to evaluate our trained model, we need to always reserve a fraction of our dataset as the validation set, so we can obtain evaluation metrics by comparing the ground-truth labels in this validation set and the predictions generated by our model.\n",
    "\n",
    "We performed the same splitting in the Lab notebook in Week 1.\n",
    "\n",
    "Hint: http://scikit-learn.org/stable/modules/generated/sklearn.model_selection.train_test_split.html)."
   ]
  },
  {
   "cell_type": "code",
   "execution_count": 12,
   "metadata": {
    "ExecuteTime": {
     "end_time": "2019-06-22T19:46:42.623519Z",
     "start_time": "2019-06-22T19:46:42.600865Z"
    }
   },
   "outputs": [],
   "source": [
    "# Split the dataset\n",
    "\n",
    "from sklearn.model_selection import train_test_split\n",
    "X_train, X_test, y_train, y_test = train_test_split(X, y, test_size=0.2, shuffle=True, random_state=0)"
   ]
  },
  {
   "cell_type": "markdown",
   "metadata": {},
   "source": [
    "## $\\Omega$ Step 6: (Practice) Verify the size of the two datasets: \n",
    " - `X_train` and `y_train`: the training set\n",
    " - `X_test` and `y_test`: the test set"
   ]
  },
  {
   "cell_type": "code",
   "execution_count": 13,
   "metadata": {
    "ExecuteTime": {
     "end_time": "2019-06-22T19:46:42.627572Z",
     "start_time": "2019-06-22T19:46:42.624739Z"
    }
   },
   "outputs": [
    {
     "name": "stdout",
     "output_type": "stream",
     "text": [
      "142 training examples, and 36 examples\n"
     ]
    }
   ],
   "source": [
    "print(f'{len(y_train)} training examples, and {len(y_test)} examples')"
   ]
  },
  {
   "cell_type": "markdown",
   "metadata": {},
   "source": [
    "## Step 7: Standardize your training data\n",
    "\n",
    "As introduced in the Lab notebook of Week 1, in general, it is a good idea to perform certain preprocessing steps, such as feature standardization and normalization, imputation, outlier removal, on your training data.\n",
    "\n",
    "Here, we perform the same feature standardization as we did in Week 1.\n",
    "\n",
    "Hint: http://scikit-learn.org/stable/modules/generated/sklearn.preprocessing.StandardScaler.html#sklearn.preprocessing.StandardScaler"
   ]
  },
  {
   "cell_type": "code",
   "execution_count": 14,
   "metadata": {
    "ExecuteTime": {
     "end_time": "2019-06-22T19:46:42.636297Z",
     "start_time": "2019-06-22T19:46:42.629134Z"
    }
   },
   "outputs": [
    {
     "data": {
      "text/plain": [
       "array([[ 0.64412971, -1.42846826],\n",
       "       [-0.39779858, -0.5029981 ],\n",
       "       [-0.32337513,  0.31964204],\n",
       "       [ 0.42085937, -1.23309123],\n",
       "       [ 0.90461179,  0.67954711],\n",
       "       [ 1.23951731,  1.33765922],\n",
       "       [-0.54664548,  0.30935904],\n",
       "       [-1.73742067, -0.60582812],\n",
       "       [ 0.49528281,  0.062567  ],\n",
       "       [ 0.71855316,  1.11143318],\n",
       "       [-0.62106893, -1.32563825],\n",
       "       [-0.24895168,  0.19624602],\n",
       "       [-0.62106893, -1.20224223],\n",
       "       [ 1.31394076,  1.2245462 ],\n",
       "       [ 0.12316557, -0.74979015],\n",
       "       [-0.65828065, -1.51073228],\n",
       "       [-0.21173995,  1.37879123],\n",
       "       [ 1.23951731, -0.65724313],\n",
       "       [-0.02568133,  0.95718815],\n",
       "       [-1.58857377,  0.093416  ],\n",
       "       [-0.39779858, -1.29478924],\n",
       "       [-0.80712755, -1.43875127],\n",
       "       [ 1.12788213,  0.93662215],\n",
       "       [ 0.79297661, -1.38733626],\n",
       "       [ 0.04874212, -1.15082722],\n",
       "       [-0.84433927,  0.24766103],\n",
       "       [-0.17452823, -0.36931908],\n",
       "       [-0.4350103 , -1.40790226],\n",
       "       [-1.43972687,  0.56643409],\n",
       "       [-1.43972687, -0.71894114],\n",
       "       [-0.06289306, -1.28450624],\n",
       "       [-1.66299722, -0.16365904],\n",
       "       [ 1.12788213,  1.32737622],\n",
       "       [-3.7468538 , -1.41818526],\n",
       "       [-0.62106893,  0.32992504],\n",
       "       [ 1.38836421, -0.98629919],\n",
       "       [-0.2861634 ,  0.70011311],\n",
       "       [-0.24895168,  1.40964023],\n",
       "       [ 1.23951731,  0.99832016],\n",
       "       [ 0.86740006,  0.96747116],\n",
       "       [-0.32337513, -1.47988327],\n",
       "       [ 1.01624696, -0.87318617],\n",
       "       [-2.03511447,  0.6486981 ],\n",
       "       [-0.7327041 ,  0.72067911],\n",
       "       [-1.40251515, -0.35903608],\n",
       "       [ 0.86740006, -1.0582802 ],\n",
       "       [-0.17452823, -1.50044928],\n",
       "       [-1.21645652,  1.35822522],\n",
       "       [-0.17452823, -1.35648725],\n",
       "       [-0.24895168, -0.36931908],\n",
       "       [ 0.60691799, -0.20479105],\n",
       "       [ 1.35115248,  0.18596302],\n",
       "       [ 0.08595384,  1.11143318],\n",
       "       [-2.29559654, -0.68809213],\n",
       "       [-0.36058685,  1.63586627],\n",
       "       [ 0.12316557,  0.99832016],\n",
       "       [-0.47222203, -0.00941402],\n",
       "       [ 0.08595384,  1.7901113 ],\n",
       "       [ 0.64412971, -1.52101528],\n",
       "       [ 0.56970626,  0.43275506],\n",
       "       [-0.39779858, -1.52101528],\n",
       "       [-0.32337513,  1.25539521],\n",
       "       [ 1.23951731,  0.98803716],\n",
       "       [-1.55136204, -0.10196103],\n",
       "       [ 0.19758902,  1.84152631],\n",
       "       [-2.48165516,  0.22709503],\n",
       "       [-2.44444344,  0.083133  ],\n",
       "       [ 0.49528281,  1.58445126],\n",
       "       [ 0.01153039, -1.30507224],\n",
       "       [-0.32337513, -0.19450805],\n",
       "       [ 0.30922419,  0.58700009],\n",
       "       [-0.02568133, -0.66752613],\n",
       "       [-1.66299722, -0.38988508],\n",
       "       [ 0.79297661,  0.26822703],\n",
       "       [-0.17452823, -0.71894114],\n",
       "       [ 0.16037729,  0.83379213],\n",
       "       [ 1.01624696, -1.38733626],\n",
       "       [ 1.42557593, -0.68809213],\n",
       "       [ 0.04874212,  1.73869629],\n",
       "       [ 0.23480074,  1.14228219],\n",
       "       [ 0.19758902, -0.71894114],\n",
       "       [-0.32337513, -1.15082722],\n",
       "       [-0.32337513,  1.25539521],\n",
       "       [-0.17452823,  0.49445307],\n",
       "       [-1.36530342, -0.31790407],\n",
       "       [ 0.34643592,  0.16539701],\n",
       "       [ 0.16037729,  1.06001817],\n",
       "       [ 1.16509386,  1.31709322],\n",
       "       [-0.91876272,  0.75152812],\n",
       "       [ 0.30922419, -1.37705326],\n",
       "       [ 0.71855316,  0.72067911],\n",
       "       [-0.84433927,  0.83379213],\n",
       "       [ 0.19758902,  0.86464114],\n",
       "       [-0.06289306, -1.18167622],\n",
       "       [ 0.83018834,  1.65643228],\n",
       "       [-0.36058685, -0.11224403],\n",
       "       [ 0.12316557, -0.88346917],\n",
       "       [-0.99318617, -1.40790226],\n",
       "       [ 0.94182351,  1.49190425],\n",
       "       [-0.99318617,  0.71039611],\n",
       "       [-0.02568133, -0.77035615],\n",
       "       [ 1.16509386,  0.86464114],\n",
       "       [ 0.90461179, -1.38733626],\n",
       "       [-0.24895168,  0.51501908],\n",
       "       [ 1.05345869,  0.59728309],\n",
       "       [ 1.61163456,  1.04973517],\n",
       "       [ 0.49528281,  0.35049105],\n",
       "       [-0.02568133,  1.27596121],\n",
       "       [-0.02568133, -0.57497912],\n",
       "       [ 1.53721111,  0.29907604],\n",
       "       [ 1.01624696, -1.40790226],\n",
       "       [-0.02568133,  0.76181112],\n",
       "       [ 1.31394076, -1.46960027],\n",
       "       [ 0.94182351, -0.38988508],\n",
       "       [ 0.42085937, -1.33592125],\n",
       "       [-0.5838572 ,  0.39162305],\n",
       "       [-0.5838572 ,  1.07030117],\n",
       "       [ 0.53249454, -0.37960208],\n",
       "       [ 0.12316557,  0.61784909],\n",
       "       [-0.62106893,  0.22709503],\n",
       "       [ 0.04874212, -1.22280823],\n",
       "       [ 1.38836421, -1.22280823],\n",
       "       [-0.47222203, -0.11224403],\n",
       "       [-0.50943375, -0.64696013],\n",
       "       [ 3.17452699,  0.75152812],\n",
       "       [-0.62106893,  0.59728309],\n",
       "       [-0.24895168, -1.32563825],\n",
       "       [ 1.8349049 , -1.01714819],\n",
       "       [ 0.53249454,  1.12171618],\n",
       "       [ 0.49528281,  1.7695453 ],\n",
       "       [ 1.23951731, -1.49016628],\n",
       "       [ 0.34643592, -0.26648906],\n",
       "       [-0.5838572 , -0.95545018],\n",
       "       [ 0.94182351, -0.34875308],\n",
       "       [ 1.76048145,  0.75152812],\n",
       "       [ 1.05345869,  0.47388707],\n",
       "       [-0.36058685,  1.2348292 ],\n",
       "       [-1.81184412, -0.31790407],\n",
       "       [-1.66299722,  0.052284  ],\n",
       "       [-0.65828065,  0.14483101],\n",
       "       [-0.91876272,  1.48162125],\n",
       "       [ 0.42085937, -1.28450624]])"
      ]
     },
     "execution_count": 14,
     "metadata": {},
     "output_type": "execute_result"
    }
   ],
   "source": [
    "from sklearn.preprocessing import StandardScaler\n",
    "scaler = StandardScaler()\n",
    "\n",
    "X_train = scaler.fit_transform(X_train)\n",
    "X_train"
   ]
  },
  {
   "cell_type": "markdown",
   "metadata": {},
   "source": [
    "## $\\Omega$ Step 8: Standardize your test data\n",
    "\n",
    "Now we need to **use the same scaler** to **transform** our test data. \n",
    "\n",
    "<font color='#FF0000'>Be careful, don't call `fit_transform` again on the test data!!\n"
   ]
  },
  {
   "cell_type": "code",
   "execution_count": 15,
   "metadata": {
    "ExecuteTime": {
     "end_time": "2019-06-22T19:46:42.642482Z",
     "start_time": "2019-06-22T19:46:42.637869Z"
    },
    "scrolled": true
   },
   "outputs": [
    {
     "data": {
      "text/plain": [
       "array([[-0.4350103 ,  0.97775416],\n",
       "       [ 0.42085937, -0.60582812],\n",
       "       [-0.76991583,  1.18341419],\n",
       "       [ 0.34643592,  0.85435814],\n",
       "       [-0.881551  ,  0.72067911],\n",
       "       [ 3.21173872,  3.21944855],\n",
       "       [ 0.90461179,  0.57671709],\n",
       "       [ 0.04874212, -1.0582802 ],\n",
       "       [-0.91876272,  0.083133  ],\n",
       "       [-0.17452823, -0.4618661 ],\n",
       "       [-0.06289306, -1.49016628],\n",
       "       [-0.50943375, -1.6546943 ],\n",
       "       [ 0.30922419,  1.48162125],\n",
       "       [-0.99318617,  1.85180931],\n",
       "       [ 1.20230558, -1.14054421],\n",
       "       [-1.36530342,  0.31964204],\n",
       "       [ 1.23951731,  0.81322613],\n",
       "       [ 0.42085937,  2.03690334],\n",
       "       [-1.29087997, -0.55441311],\n",
       "       [ 0.86740006,  1.07030117],\n",
       "       [-2.48165516,  1.26567821],\n",
       "       [ 0.68134144,  0.49445307],\n",
       "       [ 1.87211663,  0.76181112],\n",
       "       [-1.43972687, -0.02998002],\n",
       "       [-0.32337513, -0.88346917],\n",
       "       [-0.7327041 ,  0.32992504],\n",
       "       [-0.2861634 ,  1.2348292 ],\n",
       "       [-0.21173995, -0.26648906],\n",
       "       [ 2.05817525,  0.083133  ],\n",
       "       [-0.24895168, -1.30507224],\n",
       "       [ 0.94182351,  1.01888616],\n",
       "       [-0.24895168,  1.08058418],\n",
       "       [ 0.04874212, -0.20479105],\n",
       "       [ 0.27201247,  0.72067911],\n",
       "       [-0.7327041 ,  1.06001817],\n",
       "       [-0.99318617,  1.08058418]])"
      ]
     },
     "execution_count": 15,
     "metadata": {},
     "output_type": "execute_result"
    }
   ],
   "source": [
    "X_test = scaler.transform(X_test)\n",
    "X_test"
   ]
  },
  {
   "cell_type": "markdown",
   "metadata": {},
   "source": [
    "# $\\Delta$ 3. Model fitting\n",
    "\n",
    "- We will be using Scikit-learn's `LogisticRegression` module to perform our **binary logistic regression** classification. As a challenge, you can try implementing your own **gradient descent optimization** on logistic regression, and we leave the practice in this week's assignment.\n",
    "\n",
    "- **User guide:** http://scikit-learn.org/stable/modules/linear_model.html#logistic-regression"
   ]
  },
  {
   "cell_type": "markdown",
   "metadata": {},
   "source": [
    "## Step 1: Initialize the model"
   ]
  },
  {
   "cell_type": "code",
   "execution_count": 16,
   "metadata": {
    "ExecuteTime": {
     "end_time": "2019-06-22T19:46:42.700701Z",
     "start_time": "2019-06-22T19:46:42.644060Z"
    }
   },
   "outputs": [],
   "source": [
    "from sklearn.linear_model import LogisticRegression\n",
    "\n",
    "lr = LogisticRegression(class_weight='balanced')"
   ]
  },
  {
   "cell_type": "markdown",
   "metadata": {},
   "source": [
    "**Question**: what is this `class_weight` parameter? Why do we want to set it to `balanced`?\n",
    "\n",
    "**Hint**: read the documentation about the `class_weight` paramter of `LogisticRegression` on http://scikit-learn.org/stable/modules/linear_model.html#logistic-regression and reference to the class distribution issue mentioned in the section **(Practice) Step 2: Count how many class_0 and class_1_and_2 there are in your transformed data**."
   ]
  },
  {
   "cell_type": "markdown",
   "metadata": {},
   "source": [
    "## Step 2: Fit the model using `X_train` and `y_train`\n",
    "\n",
    "When using sklearn models, such as the `LinearRegression` model we used in Week 1 and the `LogisticRegression` model we use here, training a model is as simple as one line code: `model.fit(X, y)`.\n",
    "\n",
    "The reason behind this simplicity is due to the good software engineering principles implemented in sklearn, such as encapsulation and polymorphism (so it provides a consistent interface to users, regardless of the underlying model).\n"
   ]
  },
  {
   "cell_type": "code",
   "execution_count": 17,
   "metadata": {
    "ExecuteTime": {
     "end_time": "2019-06-22T19:46:42.710118Z",
     "start_time": "2019-06-22T19:46:42.702163Z"
    },
    "scrolled": true
   },
   "outputs": [
    {
     "name": "stderr",
     "output_type": "stream",
     "text": [
      "/Users/jodie/anaconda3/lib/python3.7/site-packages/sklearn/linear_model/logistic.py:433: FutureWarning: Default solver will be changed to 'lbfgs' in 0.22. Specify a solver to silence this warning.\n",
      "  FutureWarning)\n"
     ]
    },
    {
     "data": {
      "text/plain": [
       "LogisticRegression(C=1.0, class_weight='balanced', dual=False,\n",
       "          fit_intercept=True, intercept_scaling=1, max_iter=100,\n",
       "          multi_class='warn', n_jobs=None, penalty='l2', random_state=None,\n",
       "          solver='warn', tol=0.0001, verbose=0, warm_start=False)"
      ]
     },
     "execution_count": 17,
     "metadata": {},
     "output_type": "execute_result"
    }
   ],
   "source": [
    "lr.fit(X_train, y_train)"
   ]
  },
  {
   "cell_type": "markdown",
   "metadata": {},
   "source": [
    "## Step 3: Use `lr` to generate the predictions on `X_train`\n",
    "\n",
    "Normally, we do not need to generate predictions on the training data, as we care about the model's ability to generate predictions on unseen data.\n",
    "\n",
    "However, here, let's generate predictions on the training data anyway, so we can compare the training performance against the validation performance, to get a sense of whether we are overfitting or underfitting."
   ]
  },
  {
   "cell_type": "code",
   "execution_count": 18,
   "metadata": {
    "ExecuteTime": {
     "end_time": "2019-06-22T19:46:42.717022Z",
     "start_time": "2019-06-22T19:46:42.714022Z"
    }
   },
   "outputs": [],
   "source": [
    "y_pred_train = lr.predict(X_train)"
   ]
  },
  {
   "cell_type": "markdown",
   "metadata": {},
   "source": [
    "## Step 4: Evaluate the model performance on the training set\n",
    "\n",
    "Looking at training performance is a good way of see if your model is underfitting or not, i.e., if the model cannot even fit the training data almost perfectly, it indicates your model is not expressive enough to explain all the variance in the training data."
   ]
  },
  {
   "cell_type": "code",
   "execution_count": 19,
   "metadata": {
    "ExecuteTime": {
     "end_time": "2019-06-22T19:46:42.726480Z",
     "start_time": "2019-06-22T19:46:42.719182Z"
    }
   },
   "outputs": [
    {
     "name": "stdout",
     "output_type": "stream",
     "text": [
      "Training performance\n",
      "              precision    recall  f1-score   support\n",
      "\n",
      "           0       0.96      0.77      0.85        56\n",
      "           1       0.87      0.98      0.92        86\n",
      "\n",
      "   micro avg       0.89      0.89      0.89       142\n",
      "   macro avg       0.91      0.87      0.88       142\n",
      "weighted avg       0.90      0.89      0.89       142\n",
      "\n",
      "Classification accuracy: 89.44%.\n"
     ]
    }
   ],
   "source": [
    "from sklearn.metrics import classification_report, accuracy_score\n",
    "\n",
    "print('Training performance')\n",
    "print(classification_report(y_pred_train, y_train))\n",
    "accuracy = accuracy_score(y_pred_train, y_train) *100\n",
    "print(\"Classification accuracy: {}%.\".format(round(accuracy,2)))"
   ]
  },
  {
   "cell_type": "markdown",
   "metadata": {},
   "source": [
    "## $\\Omega$ Step 5: (Practice) Evaluate the model performance on the test set"
   ]
  },
  {
   "cell_type": "code",
   "execution_count": 20,
   "metadata": {
    "ExecuteTime": {
     "end_time": "2019-06-22T19:46:42.736130Z",
     "start_time": "2019-06-22T19:46:42.728157Z"
    },
    "scrolled": true
   },
   "outputs": [
    {
     "name": "stdout",
     "output_type": "stream",
     "text": [
      "Testing performance\n",
      "              precision    recall  f1-score   support\n",
      "\n",
      "           0       1.00      0.70      0.82        20\n",
      "           1       0.73      1.00      0.84        16\n",
      "\n",
      "   micro avg       0.83      0.83      0.83        36\n",
      "   macro avg       0.86      0.85      0.83        36\n",
      "weighted avg       0.88      0.83      0.83        36\n",
      "\n",
      "Classification accuracy: 83.33%.\n"
     ]
    }
   ],
   "source": [
    "# TODO: evaluate your model's performance on the test set\n",
    "\n",
    "print('Testing performance')\n",
    "y_pred_test = lr.predict(X_test)\n",
    "print(classification_report(y_pred_test, y_test))\n",
    "accuracy = accuracy_score(y_pred_test, y_test) *100\n",
    "print(\"Classification accuracy: {}%.\".format(round(accuracy,2)))"
   ]
  },
  {
   "cell_type": "markdown",
   "metadata": {},
   "source": [
    "## $\\Omega$ (Practice) Manually calculate the test performance metrics using `y_test` and `y_pred_test`\n",
    "\n",
    "By comparing the ground truth `y_test` with our predictions `y_pred_test`, we can compute the set of metrics we got above: `preicision`, `recall`, `f1-score`, and `accuracy`.\n",
    "\n",
    "In this exercise, we will achieve this without using sklearn's function. This is to help you establish a solid understanding of how those metrics work.\n",
    "\n",
    "Verify your calculation by confirming your hand calculated results are the same as the ones we got above."
   ]
  },
  {
   "cell_type": "code",
   "execution_count": 21,
   "metadata": {
    "ExecuteTime": {
     "end_time": "2019-06-22T19:46:42.746714Z",
     "start_time": "2019-06-22T19:46:42.737663Z"
    }
   },
   "outputs": [
    {
     "name": "stdout",
     "output_type": "stream",
     "text": [
      "positive class: 0\n",
      "14\n",
      "6\n",
      "0\n",
      "16\n",
      "0.7\n",
      "1.0\n",
      "0.8235294117647058\n"
     ]
    }
   ],
   "source": [
    "pos_class = lr.classes_[0]\n",
    "print(f'positive class: {pos_class}')\n",
    "\n",
    "pred_pos_idx = list(np.where(y_pred_test == pos_class)[0])\n",
    "true_pos_idx = list(np.where(y_test == pos_class)[0])\n",
    "\n",
    "pred_neg_idx = list(np.where(y_pred_test != pos_class)[0])\n",
    "true_neg_idx = list(np.where(y_test != pos_class)[0])\n",
    "\n",
    "\n",
    "# Compute TP (true positive)\n",
    "tp = len(set(pred_pos_idx).intersection(true_pos_idx))\n",
    "print(tp)\n",
    "\n",
    "# Compute FP (false positive)\n",
    "fp = len(set(pred_pos_idx).intersection(true_neg_idx))\n",
    "print(fp)\n",
    "\n",
    "# Compute FN (false negative)\n",
    "fn = len(set(pred_neg_idx).intersection(true_pos_idx))\n",
    "print(fn)\n",
    "\n",
    "# Compute TN (true negative)\n",
    "tn = len(set(pred_neg_idx).intersection(true_neg_idx))\n",
    "print(tn)\n",
    "\n",
    "# Compute precision\n",
    "precision = tp / (tp+fp)\n",
    "print(precision)\n",
    "\n",
    "# Compute recall\n",
    "recall = tp / (tp+fn)\n",
    "print(recall)\n",
    "\n",
    "# Compute f1-score\n",
    "f1_score = 2/(1/precision+1/recall)\n",
    "print(f1_score)\n",
    "\n",
    "# Compute accuracy"
   ]
  },
  {
   "cell_type": "markdown",
   "metadata": {},
   "source": [
    "## Step 6: Get prediction probabilities\n",
    "\n",
    "As mentioned, one of the advantages of using Logistic Regression is the ability to product natural prediction probabilities. By default, when you call `lr.predict()`, it uses **probability $\\ge 0.5$ as the threshold** for producing positive predictions, and output the categorical labels directly for you.\n",
    "\n",
    "Now let's take a look at how these probabilities actually look like. We call the `.predict_prob()` function on a trained LogisticRegression model to get the raw probabilities for each output class.\n",
    "\n",
    "> <font color='#FF0000'>Note, not all classifiers implement `.predict_prob()`, because not all classifiers have a valid probility interpretation in their output. "
   ]
  },
  {
   "cell_type": "code",
   "execution_count": 22,
   "metadata": {
    "ExecuteTime": {
     "end_time": "2019-06-22T19:46:42.757717Z",
     "start_time": "2019-06-22T19:46:42.749831Z"
    }
   },
   "outputs": [
    {
     "name": "stdout",
     "output_type": "stream",
     "text": [
      "true class: 0, predicted prob: 0.18\n",
      "true class: 1, predicted prob: 0.94\n",
      "true class: 1, predicted prob: 0.12\n",
      "true class: 0, predicted prob: 0.19\n",
      "true class: 1, predicted prob: 0.36\n",
      "true class: 1, predicted prob: 0.00\n",
      "true class: 0, predicted prob: 0.30\n",
      "true class: 1, predicted prob: 0.99\n",
      "true class: 1, predicted prob: 0.78\n",
      "true class: 1, predicted prob: 0.93\n",
      "true class: 1, predicted prob: 1.00\n",
      "true class: 1, predicted prob: 1.00\n",
      "true class: 0, predicted prob: 0.04\n",
      "true class: 1, predicted prob: 0.02\n",
      "true class: 1, predicted prob: 0.98\n",
      "true class: 1, predicted prob: 0.69\n",
      "true class: 0, predicted prob: 0.16\n",
      "true class: 0, predicted prob: 0.01\n",
      "true class: 1, predicted prob: 0.96\n",
      "true class: 0, predicted prob: 0.09\n",
      "true class: 1, predicted prob: 0.18\n",
      "true class: 0, predicted prob: 0.37\n",
      "true class: 0, predicted prob: 0.15\n",
      "true class: 1, predicted prob: 0.86\n",
      "true class: 1, predicted prob: 0.98\n",
      "true class: 1, predicted prob: 0.62\n",
      "true class: 1, predicted prob: 0.09\n",
      "true class: 1, predicted prob: 0.88\n",
      "true class: 1, predicted prob: 0.54\n",
      "true class: 1, predicted prob: 0.99\n",
      "true class: 0, predicted prob: 0.11\n",
      "true class: 0, predicted prob: 0.14\n",
      "true class: 1, predicted prob: 0.85\n",
      "true class: 0, predicted prob: 0.27\n",
      "true class: 0, predicted prob: 0.17\n",
      "true class: 0, predicted prob: 0.17\n"
     ]
    }
   ],
   "source": [
    "test_probs = lr.predict_proba(X_test) # `predict_prob` is the way to get the predictions in raw probabilities\n",
    "classes = lr.classes_\n",
    "pos_idx = list(classes).index(1)  # find the class index representing the positive class `1`\n",
    "\n",
    "for (i, y) in enumerate(y_test):\n",
    "    prob = test_probs[i, pos_idx] # get the probability P(C=1|X) for the i-th test sample\n",
    "    print('true class: %d, predicted prob: %.2f' % (y_test[i], round(prob, 2)))"
   ]
  },
  {
   "cell_type": "markdown",
   "metadata": {},
   "source": [
    "## Step 7: Visualize the decision boundary\n",
    "\n",
    "We can also visualize what the decision boundary look like for our trained LogisticRegression model. The following code might seem a bit too complicated, but the gist of it is to plot out the contour when the prediction probilities equal to 0.5, as in the following line:\n",
    "\n",
    "`plt.contour(xx, yy, probs, levels=[.5], cmap=\"Greys\", vmin=0, vmax=.6)`"
   ]
  },
  {
   "cell_type": "code",
   "execution_count": 26,
   "metadata": {
    "ExecuteTime": {
     "end_time": "2019-06-22T20:53:13.261564Z",
     "start_time": "2019-06-22T20:53:13.254955Z"
    }
   },
   "outputs": [],
   "source": [
    "def visualize_decision_boundary_2d(target_names, X, y, lr):\n",
    "    series = []\n",
    "    # target_names=['class_0', 'class_1_and_2']\n",
    "    # targets=[0,1]\n",
    "    colors = ['b', 'r', 'g']\n",
    "    for i in range(len(target_names)):\n",
    "        # for each target (\"class_0\", \"class_1_and_2\")\n",
    "        # we create a scatter plot\n",
    "        target_indices = np.where(y == i)[0] # find the indices of data where the target == i\n",
    "        series.append(plt.scatter(X[target_indices, 0], X[target_indices, 1], c=colors[i]))\n",
    " \n",
    "    xx, yy = np.mgrid[-4:3:.01, -1.5:2:.01]\n",
    "    grid = np.c_[xx.ravel(), yy.ravel()]\n",
    "    probs = lr.predict_proba(grid)[:, 1].reshape(xx.shape)\n",
    "    plt.contour(xx, yy, probs, levels=[.5], cmap=\"Greys\", vmin=0, vmax=.6)\n",
    " \n",
    "    plt.legend(series, target_names)\n",
    "   \n",
    "    sns.despine()"
   ]
  },
  {
   "cell_type": "code",
   "execution_count": 24,
   "metadata": {
    "ExecuteTime": {
     "end_time": "2019-06-22T19:46:42.954009Z",
     "start_time": "2019-06-22T19:46:42.769606Z"
    }
   },
   "outputs": [
    {
     "data": {
      "image/png": "[encoded data removed]",
      "text/plain": [
       "<Figure size 432x288 with 1 Axes>"
      ]
     },
     "metadata": {
      "needs_background": "light"
     },
     "output_type": "display_data"
    }
   ],
   "source": [
    "visualize_decision_boundary_2d(target_names=['class_0', 'class_1_and_2'], X=X_train, y=y_train, lr=lr)"
   ]
  },
  {
   "cell_type": "markdown",
   "metadata": {},
   "source": [
    "## Step 8: Precision-recall tradeoff\n",
    "\n",
    "Since Logistic Regression is able to predict probabilities naturally, we can theoretically change the default threshold (0.5) of separating postivie (1) vs. negative (0) classes.\n",
    "\n",
    "Let's see how changing this threshold affect our metrics.\n",
    "\n",
    "The following code plots the relationship between **precision** and **recall** when the decision threshold is changed. What pattern can you observe from the plot?"
   ]
  },
  {
   "cell_type": "code",
   "execution_count": 25,
   "metadata": {
    "ExecuteTime": {
     "end_time": "2019-06-22T19:46:43.165139Z",
     "start_time": "2019-06-22T19:46:42.955548Z"
    },
    "scrolled": true
   },
   "outputs": [
    {
     "data": {
      "text/plain": [
       "<matplotlib.legend.Legend at 0x1a194702b0>"
      ]
     },
     "execution_count": 25,
     "metadata": {},
     "output_type": "execute_result"
    },
    {
     "data": {
      "image/png": "[encoded data removed]",
      "text/plain": [
       "<Figure size 432x288 with 1 Axes>"
      ]
     },
     "metadata": {
      "needs_background": "light"
     },
     "output_type": "display_data"
    }
   ],
   "source": [
    "from sklearn.metrics.classification import precision_score, recall_score\n",
    "import matplotlib.patches as mpatches\n",
    "\n",
    "thresholds = np.linspace(0, 0.9) # evenly 10 spaced numbers over [0, 0.9].\n",
    "classes = lr.classes_\n",
    "test_probs = lr.predict_proba(X_test)\n",
    "pos_idx = list(classes).index(1)  # find the class index representing the positive class `1`\n",
    "\n",
    "precisions = []\n",
    "recalls = []\n",
    "for threshold in thresholds:\n",
    "    \n",
    "    pos_j = np.where(test_probs[:,pos_idx] >= threshold) # the index in the test set whose prediction is above the threshold\n",
    "    y_preds = np.zeros(len(y_test))\n",
    "    y_preds[pos_j[0]] = 1\n",
    "\n",
    "    precisions.append(precision_score(y_preds, y_test))\n",
    "    recalls.append(recall_score(y_preds, y_test))\n",
    "\n",
    "plt.plot(thresholds, precisions, c='r') # the precision curve\n",
    "plt.plot(thresholds, recalls, c='g') # the recall curve\n",
    "\n",
    "y = np.linspace(0, 1, 100)\n",
    "plt.plot([0.5]*len(y), y, linestyle='--', linewidth=1, c='k') # the default threshold 0.5\n",
    "\n",
    "plt.xlabel('threshold')\n",
    "prec_patch = mpatches.Patch(color='red', label='Precision')\n",
    "rec_patch = mpatches.Patch(color='green', label='Recall')\n",
    "plt.legend(handles=[prec_patch, rec_patch])"
   ]
  },
  {
   "cell_type": "markdown",
   "metadata": {},
   "source": [
    "> **Recall**: among all the truly Yes cases, how many of them are predicted by us.\n",
    "\n",
    "> **Precision:** among all the predicted Yes cases, how many of them truly Yes."
   ]
  },
  {
   "cell_type": "code",
   "execution_count": null,
   "metadata": {},
   "outputs": [],
   "source": []
  }
 ],
 "metadata": {
  "kernelspec": {
   "display_name": "Python 3",
   "language": "python",
   "name": "python3"
  },
  "language_info": {
   "codemirror_mode": {
    "name": "ipython",
    "version": 3
   },
   "file_extension": ".py",
   "mimetype": "text/x-python",
   "name": "python",
   "nbconvert_exporter": "python",
   "pygments_lexer": "ipython3",
   "version": "3.7.1"
  },
  "toc": {
   "base_numbering": 1,
   "nav_menu": {},
   "number_sections": true,
   "sideBar": true,
   "skip_h1_title": false,
   "title_cell": "Table of Contents",
   "title_sidebar": "Contents",
   "toc_cell": false,
   "toc_position": {},
   "toc_section_display": true,
   "toc_window_display": false
  }
 },
 "nbformat": 4,
 "nbformat_minor": 2
}
