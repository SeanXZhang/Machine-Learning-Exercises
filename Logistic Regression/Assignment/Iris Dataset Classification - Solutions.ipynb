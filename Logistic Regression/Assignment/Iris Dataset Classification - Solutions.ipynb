{
 "cells": [
  {
   "cell_type": "markdown",
   "metadata": {},
   "source": [
    "<img src='https://weclouddata.com/wp-content/uploads/2016/11/logo.png' width='30%'>\n",
    "-------------\n",
    "\n",
    "<h3 align='center'> Applied Machine Learning Course - Assignment Week 2 </h3>\n",
    "<h1 align='center'> Iris Dataset Classification </h1>\n",
    "\n",
    "<br>\n",
    "<center align=\"left\"> Developed by:</center>\n",
    "<center align=\"left\"> WeCloudData Academy </center>\n"
   ]
  },
  {
   "cell_type": "markdown",
   "metadata": {},
   "source": [
    "<h2>Background</h2>\n",
    "\n",
    "In this assignment, we will practice some advanced Logistic Regression technique on the famous [iris dataset](#https://archive.ics.uci.edu/ml/datasets/iris).\n",
    "\n",
    "This is perhaps the best known database to be found in the machine learning literature. The data set contains 3 classes of 50 instances each, where each class refers to a type of iris plant. One class is linearly separable from the other 2; the latter are NOT linearly separable from each other. \n",
    "\n",
    "Predicted attribute: **class of iris plant**. \n",
    "\n",
    "This is an exceedingly simple domain. "
   ]
  },
  {
   "cell_type": "markdown",
   "metadata": {},
   "source": [
    "<h2>Data Description</h2>\n",
    "\n",
    "<b>Features:</b>\n",
    "1. sepal length in cm \n",
    "2. sepal width in cm \n",
    "3. petal length in cm \n",
    "4. petal width in cm \n",
    "\n",
    "\n",
    "<b>Target Value:</b>\n",
    "\n",
    "- class: \n",
    "  1. Iris Setosa \n",
    "  2. Iris Versicolour \n",
    "  3. Iris Virginica"
   ]
  },
  {
   "cell_type": "markdown",
   "metadata": {},
   "source": [
    "## $\\Omega$ 1: Explore the Training Data"
   ]
  },
  {
   "cell_type": "code",
   "execution_count": 1,
   "metadata": {},
   "outputs": [],
   "source": [
    "# Import necessary libraries (numpy, sklearn, matplotlib) and \n",
    "\n",
    "from sklearn import datasets\n",
    "import matplotlib.pyplot as plt\n",
    "import seaborn as sns\n",
    "import numpy as np\n",
    "\n",
    "sns.set(style='ticks', palette='Set2')\n",
    "%matplotlib inline"
   ]
  },
  {
   "cell_type": "markdown",
   "metadata": {},
   "source": [
    "- Step 1: Load the iris dataset from sklearn into a variable called `data`.\n",
    "\n",
    "  - Hint: http://scikit-learn.org/stable/modules/generated/sklearn.datasets.load_iris.html#sklearn.datasets.load_iris\n",
    "  - We have used similar technique to load the wine dataset in the in-class lab."
   ]
  },
  {
   "cell_type": "code",
   "execution_count": 2,
   "metadata": {},
   "outputs": [],
   "source": [
    "# Step 1\n",
    "data = datasets.load_iris()"
   ]
  },
  {
   "cell_type": "markdown",
   "metadata": {},
   "source": [
    "- Step 2: Explore the dataset\n",
    "\n",
    "  - Figure out how many features there are and how many classes there are in the dataset"
   ]
  },
  {
   "cell_type": "code",
   "execution_count": 3,
   "metadata": {},
   "outputs": [
    {
     "name": "stdout",
     "output_type": "stream",
     "text": [
      "X.shape: (150, 4)\n",
      "y.shape: (150,)\n",
      "4 features: ['sepal length (cm)', 'sepal width (cm)', 'petal length (cm)', 'petal width (cm)']\n",
      "3 unique targets: ['setosa' 'versicolor' 'virginica']\n"
     ]
    }
   ],
   "source": [
    "# Step 2\n",
    "\n",
    "X = data.data\n",
    "y = data.target\n",
    "features = data.feature_names\n",
    "target_names = data.target_names\n",
    "\n",
    "print(f'X.shape: {X.shape}')\n",
    "print(f'y.shape: {y.shape}')\n",
    "print(f'{len(features)} features: {features}')\n",
    "print(f'{len(target_names)} unique targets: {target_names}')\n",
    "\n",
    "# print('X.shape: {X.shape}')"
   ]
  },
  {
   "cell_type": "markdown",
   "metadata": {},
   "source": [
    "- Step 3: Explore class distribution\n",
    "\n",
    "  - Find out how many samples there are for each target class.\n",
    "  - Visualize 2D feature distribution on this dataset (hint: we used similar techniques in the in-class lab)"
   ]
  },
  {
   "cell_type": "code",
   "execution_count": 4,
   "metadata": {},
   "outputs": [],
   "source": [
    "# Step 3\n",
    "\n",
    "def visualize_2d(feature_indices, all_feature_names, target_names, X, y):\n",
    "    series = []\n",
    "    # target_names=['class_0' 'class_1' 'class_2']\n",
    "    # targets=[0,1,2]\n",
    "    # assuming `feature_indices` contain two elements\n",
    "    idx1 = feature_indices[0]\n",
    "    idx2 = feature_indices[1]\n",
    "    colors = ['b', 'r', 'g']\n",
    "    for i in range(len(target_names)):\n",
    "        # for each target (\"class_0\", \"class_1\", \"class_2\")\n",
    "        # we create a scatter plot\n",
    "        target_indices = np.where(y == i)[0] # find the indices of data where the target == i\n",
    "        series.append(plt.scatter(X[target_indices, idx1], X[target_indices, idx2], c=colors[i]))\n",
    "        \n",
    "    plt.xlabel(all_feature_names[idx1]) # x-axis represents the first feature value\n",
    "    plt.ylabel(all_feature_names[idx2]) # y-axis represents the second feature value\n",
    "    plt.legend(series, target_names)\n",
    "    sns.despine()"
   ]
  },
  {
   "cell_type": "code",
   "execution_count": 5,
   "metadata": {},
   "outputs": [
    {
     "data": {
      "image/png": "[encoded data removed]",
      "text/plain": [
       "<matplotlib.figure.Figure at 0xb0799e8>"
      ]
     },
     "metadata": {},
     "output_type": "display_data"
    }
   ],
   "source": [
    "visualize_2d(feature_indices=[0, 1], all_feature_names=features, target_names=target_names, X=X, y=y)"
   ]
  },
  {
   "cell_type": "code",
   "execution_count": 6,
   "metadata": {},
   "outputs": [
    {
     "name": "stdout",
     "output_type": "stream",
     "text": [
      "setosa\t50\n",
      "versicolor\t50\n",
      "virginica\t50\n"
     ]
    }
   ],
   "source": [
    "from collections import defaultdict\n",
    "\n",
    "target2cnt = defaultdict(int)\n",
    "for target in y:\n",
    "    target2cnt[target_names[target]] += 1\n",
    "    \n",
    "for target, cnt in target2cnt.items():\n",
    "    print(f'{target}\\t{cnt}')"
   ]
  },
  {
   "cell_type": "markdown",
   "metadata": {},
   "source": [
    "## $\\Omega$ 2: Prepare Training and Testing Data"
   ]
  },
  {
   "cell_type": "markdown",
   "metadata": {},
   "source": [
    "- <b>Step 1</b>\n",
    "\n",
    "  - Use the 'train_test_split' function in scikit learn to split X and y into 80% Traning data and 20% Testing Data\n",
    "  \n",
    "  - Hint: http://scikit-learn.org/stable/modules/generated/sklearn.model_selection.train_test_split.html"
   ]
  },
  {
   "cell_type": "code",
   "execution_count": 7,
   "metadata": {},
   "outputs": [],
   "source": [
    "# Step 1\n",
    "from sklearn.model_selection import train_test_split\n",
    "\n",
    "X_train, X_test, y_train, y_test = train_test_split(X, y, test_size=0.2)"
   ]
  },
  {
   "cell_type": "markdown",
   "metadata": {},
   "source": [
    "- <b>Step 2</b>\n",
    "\n",
    "  - Perform feature standardization on `X_train` by using sklearn's `StandardScaler`, and use the same standardizer to standardize `X_test`.\n",
    "  - Hint: http://scikit-learn.org/stable/modules/generated/sklearn.preprocessing.StandardScaler.html"
   ]
  },
  {
   "cell_type": "code",
   "execution_count": 8,
   "metadata": {},
   "outputs": [],
   "source": [
    "# Step 2\n",
    "\n",
    "from sklearn.preprocessing import StandardScaler\n",
    "scaler = StandardScaler()\n",
    "X_train = scaler.fit_transform(X_train)\n",
    "X_test = scaler.transform(X_test)"
   ]
  },
  {
   "cell_type": "markdown",
   "metadata": {},
   "source": [
    "- <b>Step 3</b>\n",
    "\n",
    "  - Repeat the data visualization you did in `Step 3: Explore class distribution` above on the training and test data (`X_train` and `X_test`) after the standardization"
   ]
  },
  {
   "cell_type": "code",
   "execution_count": 9,
   "metadata": {},
   "outputs": [
    {
     "data": {
      "image/png": "[encoded data removed]",
      "text/plain": [
       "<matplotlib.figure.Figure at 0xb091d30>"
      ]
     },
     "metadata": {},
     "output_type": "display_data"
    }
   ],
   "source": [
    "# Step 3\n",
    "\n",
    "visualize_2d(feature_indices=[0, 1], all_feature_names=features, target_names=target_names, X=X_train, y=y_train)"
   ]
  },
  {
   "cell_type": "code",
   "execution_count": 10,
   "metadata": {},
   "outputs": [
    {
     "data": {
      "image/png": "[encoded data removed]",
      "text/plain": [
       "<matplotlib.figure.Figure at 0xb393390>"
      ]
     },
     "metadata": {},
     "output_type": "display_data"
    }
   ],
   "source": [
    "visualize_2d(feature_indices=[0, 1], all_feature_names=features, target_names=target_names, X=X_test, y=y_test)"
   ]
  },
  {
   "cell_type": "markdown",
   "metadata": {},
   "source": [
    "## $\\Omega$ 3: Multi-class Logistic Regression </h3>\n",
    "\n",
    "We have practiced about performing binary classification using Logistic Regression. However, Logistic Regression can also perform multi-class classification."
   ]
  },
  {
   "cell_type": "markdown",
   "metadata": {},
   "source": [
    "- <b>Step 1</b>\n",
    "  - Create a Logistic Regression model - 'lr' and fit X_train and Y_train to train it. Do you think there is any special setup you need to do for making this Logistic Regression classifier capable of performing multi-class classification?\n",
    "  - Hint: Look at the function doc at http://scikit-learn.org/stable/modules/generated/sklearn.linear_model.LogisticRegression.html\n"
   ]
  },
  {
   "cell_type": "code",
   "execution_count": 11,
   "metadata": {
    "scrolled": true
   },
   "outputs": [
    {
     "data": {
      "text/plain": [
       "LogisticRegression(C=1.0, class_weight='balanced', dual=False,\n",
       "          fit_intercept=True, intercept_scaling=1, max_iter=100,\n",
       "          multi_class='ovr', n_jobs=1, penalty='l2', random_state=None,\n",
       "          solver='liblinear', tol=0.0001, verbose=0, warm_start=False)"
      ]
     },
     "execution_count": 11,
     "metadata": {},
     "output_type": "execute_result"
    }
   ],
   "source": [
    "from sklearn.linear_model import LogisticRegression\n",
    "lr = LogisticRegression(class_weight='balanced')\n",
    "\n",
    "lr.fit(X_train, y_train)"
   ]
  },
  {
   "cell_type": "markdown",
   "metadata": {},
   "source": [
    "- <b>Step 2</b>\n",
    "  - Import classification_report and accuracy_score from sklearn.metrics.classification to evaluate our classifier\n",
    "  - Use lr.predict on X_test to get predicted value of y and call classification_report(y_test, y_predict) to get generate the classification report.\n",
    "  - Call accuracy_score to get the prediction accuracy."
   ]
  },
  {
   "cell_type": "code",
   "execution_count": 13,
   "metadata": {},
   "outputs": [
    {
     "name": "stdout",
     "output_type": "stream",
     "text": [
      "             precision    recall  f1-score   support\n",
      "\n",
      "          0       1.00      1.00      1.00         8\n",
      "          1       0.70      0.88      0.78         8\n",
      "          2       0.92      0.79      0.85        14\n",
      "\n",
      "avg / total       0.88      0.87      0.87        30\n",
      "\n",
      "accuracy: 87.0%\n"
     ]
    }
   ],
   "source": [
    "from sklearn.metrics.classification import classification_report, accuracy_score\n",
    "\n",
    "y_preds = lr.predict(X_test)\n",
    "print(classification_report(y_preds, y_test))\n",
    "print('accuracy: %.1f%%' % round(accuracy_score(y_preds, y_test) * 100.0))"
   ]
  },
  {
   "cell_type": "markdown",
   "metadata": {},
   "source": [
    "- <b>Step 3</b>\n",
    "  - What's your model's performance (using the same set of metrics as in Step 2) on the `training` data? This is to understand whether our model is underfitting or not, i.e., if the training performance is not almost perfect, it is an indicator that our model is not expressive enough to represent the variance in the training data."
   ]
  },
  {
   "cell_type": "code",
   "execution_count": 14,
   "metadata": {},
   "outputs": [
    {
     "name": "stdout",
     "output_type": "stream",
     "text": [
      "             precision    recall  f1-score   support\n",
      "\n",
      "          0       1.00      1.00      1.00        42\n",
      "          1       0.85      0.94      0.89        36\n",
      "          2       0.95      0.86      0.90        42\n",
      "\n",
      "avg / total       0.94      0.93      0.93       120\n",
      "\n",
      "training accuracy: 93.0%\n"
     ]
    }
   ],
   "source": [
    "y_train_preds = lr.predict(X_train)\n",
    "print(classification_report(y_train_preds, y_train))\n",
    "print('training accuracy: %.1f%%' % round(accuracy_score(y_train_preds, y_train) * 100.0))"
   ]
  },
  {
   "cell_type": "markdown",
   "metadata": {},
   "source": [
    "## $\\Omega$ 4: Model generality </h3>\n",
    "\n",
    "Logistic Regression in scikit-learn has regularization built in. It comes with many different variants, depending on the particular optimization solver and so on. But roughly speaking, there is a parameter $C$ which controls the strength of the regularization.\n",
    "\n",
    "According to scikit-learn's documentation, this parameter $C$ is:\n",
    "\n",
    "``` Inverse of regularization strength; must be a positive float. Like in support vector machines, smaller values specify stronger regularization.```\n",
    "\n",
    "Roughly speaking, the cost function has either one of the following forms:\n",
    "\n",
    "<center>\n",
    "\n",
    "$J_\\theta=\\sum_{i=1}^{m} (\\hat{y}^{(i)}-y^{(i)}) + \\frac{1}{C} \\times ||{\\theta}||$ (using l1 norm)\n",
    "</center>\n",
    "or,\n",
    "<center>\n",
    "$J_\\theta=\\sum_{i=1}^{m} (\\hat{y}^{(i)}-y^{(i)}) + \\frac{1}{C} \\times ||{\\theta}||^2$ (using l2 norm)\n",
    "</center>\n",
    "\n",
    "In this exercise, we will experiment with using different $C$ values, and find the optimal $C$ value on a validation set. Then we use the model built with this optimal $C$ value to perform prediction on the test set."
   ]
  },
  {
   "cell_type": "markdown",
   "metadata": {},
   "source": [
    "- Step 1:\n",
    "  - Further split the current training set to be 80% actual training set (`X_t` and `y_t`) and 20% validation set (`X_val` and `y_val`). "
   ]
  },
  {
   "cell_type": "code",
   "execution_count": 16,
   "metadata": {},
   "outputs": [],
   "source": [
    "# Step 1\n",
    "\n",
    "X_t, X_val, y_t, y_val = train_test_split(X_train, y_train, test_size=0.2)"
   ]
  },
  {
   "cell_type": "markdown",
   "metadata": {},
   "source": [
    "- Step 2:\n",
    "  - For each $C$ value in this set: $[0.001, 0.01, 0.1, 1, 5, 10, 50, 100]$, fit a LogisticRegression model `lr` with this $C$ value on `X_t` and `y_t`, and use `lr` to predict `X_val`. Keep track of  the accuracy score on the training set (`X_t` and `y_t`) and validation set (`X_val` and `y_val`).\n",
    "  - Report the $C$ value which achieves the best validation accuracy score.\n"
   ]
  },
  {
   "cell_type": "code",
   "execution_count": 17,
   "metadata": {},
   "outputs": [
    {
     "name": "stdout",
     "output_type": "stream",
     "text": [
      "Best validation accuracy 91.7 is achieved using c=5.000\n"
     ]
    }
   ],
   "source": [
    "# Step 2\n",
    "candidate_c = [0.001, 0.01, 0.1, 1, 5, 10, 50, 100]\n",
    "train_accs = []\n",
    "val_accs = []\n",
    "\n",
    "for c in candidate_c:\n",
    "    lr = LogisticRegression(C=c)\n",
    "    lr.fit(X_t, y_t)\n",
    "    train_accs.append(accuracy_score(lr.predict(X_t), y_t))\n",
    "    val_accs.append(accuracy_score(lr.predict(X_val), y_val))\n",
    "    \n",
    "# sort val_accs to find the best val accuracy and the corresponding c value which achieves the best val accuracy\n",
    "best_c_idx, best_val_acc = sorted(enumerate(val_accs), key=lambda x : x[1], reverse=True)[0]\n",
    "best_c = candidate_c[best_c_idx]\n",
    "\n",
    "print(f'Best validation accuracy %.1f is achieved using c=%.3f' % (best_val_acc * 100.0, best_c))"
   ]
  },
  {
   "cell_type": "markdown",
   "metadata": {},
   "source": [
    "- Step 3:\n",
    "  - Plot a curve of training accuracies vs. different $C$ value and a similar curve of validation accuracies vs. different $C$ value."
   ]
  },
  {
   "cell_type": "code",
   "execution_count": 18,
   "metadata": {},
   "outputs": [
    {
     "data": {
      "text/plain": [
       "<matplotlib.legend.Legend at 0xb953710>"
      ]
     },
     "execution_count": 18,
     "metadata": {},
     "output_type": "execute_result"
    },
    {
     "data": {
      "image/png": "[encoded data removed]",
      "text/plain": [
       "<matplotlib.figure.Figure at 0xb91f978>"
      ]
     },
     "metadata": {},
     "output_type": "display_data"
    }
   ],
   "source": [
    "import matplotlib.patches as mpatches\n",
    "\n",
    "plt.plot(candidate_c, train_accs, c='r') # the precision curve\n",
    "plt.plot(candidate_c, val_accs, c='g') # the recall curve\n",
    "\n",
    "y = np.linspace(0.8, 1, 100)\n",
    "\n",
    "plt.xlabel('C')\n",
    "train_patch = mpatches.Patch(color='red', label='Training accuracy')\n",
    "val_patch = mpatches.Patch(color='green', label='Validation accuracy')\n",
    "plt.legend(handles=[train_patch, val_patch])"
   ]
  },
  {
   "cell_type": "markdown",
   "metadata": {},
   "source": [
    "- Step 4: Use the optimal value of $C$ you found in step 2 to train a new Logistic Regression classifier `lr` on the combination of `X_t` and `X_val` (i.e., the original `X_train`) and test your new model on the test data `X_test` and `y_test`. Report the performance now and compare with that you obtained in [Multi-class Logistic Regreesion]($\\Omega$-3:-Multi-class-Logistic-Regression-) section."
   ]
  },
  {
   "cell_type": "code",
   "execution_count": 19,
   "metadata": {},
   "outputs": [
    {
     "name": "stdout",
     "output_type": "stream",
     "text": [
      "             precision    recall  f1-score   support\n",
      "\n",
      "          0       1.00      1.00      1.00         8\n",
      "          1       0.90      0.90      0.90        10\n",
      "          2       0.92      0.92      0.92        12\n",
      "\n",
      "avg / total       0.93      0.93      0.93        30\n",
      "\n",
      "test accuracy: 93.0%\n"
     ]
    }
   ],
   "source": [
    "# Step 4\n",
    "\n",
    "lr = LogisticRegression(C=5.0)\n",
    "lr.fit(X_train, y_train)\n",
    "\n",
    "y_preds = lr.predict(X_test)\n",
    "print(classification_report(y_preds, y_test))\n",
    "print('test accuracy: %.1f%%' % round(accuracy_score(y_preds, y_test) * 100.0))\n"
   ]
  },
  {
   "cell_type": "markdown",
   "metadata": {},
   "source": [
    "## $\\Omega$ 5 (Advanced): Implement gradient descent on Logistic Regression</h3>"
   ]
  },
  {
   "cell_type": "markdown",
   "metadata": {},
   "source": [
    "- Under the hood, Scikit-learn is already using regularization (via $C$ value) and gradient descent based method to to fit LogisticRegression.\n",
    "\n",
    "- Therefore, you have been enjoying the simple life of fitting a LogisticRegression classifier by calling sklearn directly. \n",
    "\n",
    "- In this step, you can challenge yourself to implement the most vanilla version of training a logistic regression by gradient descent, i.e., **no regularization**.\n",
    "\n",
    "- However, this dataset is a **multi-class** dataset, and it requires special care to perform multi-class classification. Therefore, let's first transform this dataset into a binary classification dataset by merging the last two classes. The code for this part is provided to you.\n",
    "\n",
    "- For more info on multi-class logistic regression, see https://cedar.buffalo.edu/~srihari/CSE574/Chap4/4.3.4-MultiLogistic.pdf![image.png](attachment:image.png)"
   ]
  },
  {
   "cell_type": "code",
   "execution_count": 20,
   "metadata": {},
   "outputs": [
    {
     "name": "stdout",
     "output_type": "stream",
     "text": [
      "unique values in y_train: [0 1]\n",
      "unique values in y_test: [0 1]\n"
     ]
    }
   ],
   "source": [
    "for y in [y_train, y_test]:\n",
    "    class_1_idx = np.where(y==1)\n",
    "    class_2_idx = np.where(y==2)\n",
    "    y[class_1_idx] = 1\n",
    "    y[class_2_idx] = 1\n",
    "\n",
    "# confirm there are only two classes in `y_train` and `y_test` now:\n",
    "print(f'unique values in y_train: {np.unique(y_train)}')\n",
    "print(f'unique values in y_test: {np.unique(y_test)}')"
   ]
  },
  {
   "cell_type": "markdown",
   "metadata": {},
   "source": [
    "- <b>Step 1: </b>\n",
    "\n",
    "  Initialize all parameters randomly\n",
    "\n",
    "<center>\n",
    "$\\hat{y}=\\sigma({\\theta^T} x)=\\cfrac{1}{e^{(-\\theta^Tx)}}$\n",
    "<center>"
   ]
  },
  {
   "cell_type": "code",
   "execution_count": 21,
   "metadata": {},
   "outputs": [],
   "source": [
    "# Step 1\n",
    "def initialize_theta(dim):\n",
    "    import numpy.random\n",
    "    # TODO: randomly initialize coefficient to be a dim-sized 1D vector\n",
    "    \n",
    "    theta = np.random.random(dim)\n",
    "    return theta\n",
    "    "
   ]
  },
  {
   "cell_type": "markdown",
   "metadata": {},
   "source": [
    "- <b>Step 2</b>\n",
    "\n",
    "  - Calculate the gradient of the logistic regresion function $\\sigma(\\theta^Tx)$ against each $\\theta_i$. "
   ]
  },
  {
   "cell_type": "code",
   "execution_count": 22,
   "metadata": {},
   "outputs": [],
   "source": [
    "# Step 2: implement this function\n",
    "import numpy as np\n",
    "\n",
    "def prediction(X, current_theta):\n",
    "    # TODO: compute the current estimation of the output, H, given the current_theta and X\n",
    "    # X.shape: m*(p+1)\n",
    "    # current_theta.shape: (p+1)*1\n",
    "    \n",
    "    return 1/(1+np.exp(-np.dot(X, current_theta))) # H.shape: m*1\n",
    "\n",
    "def loss(X, y, current_theta):\n",
    "    H = prediction(X, current_theta) # H.shape: m*1\n",
    "    # TODO: compute loss function J, given H, and y\n",
    "    return -np.sum(y.T * np.log(H) + (1 - y).T * np.log(1 - H)) / X.shape[0] # a scaler\n",
    "\n",
    "    #   or, you can use non-matrix calculation\n",
    "#     loss = 0\n",
    "#     m = X.shape[0]\n",
    "#     for i in range(m):\n",
    "#         loss -= y[i]*np.log(H[i]) + (1-y[i])*np.log(1-H[i])\n",
    "#     return loss / m\n",
    "\n",
    "def loss_gradient(X, y, current_theta):\n",
    "    # TODO: implement the loss gradient\n",
    "    # compute the current estimation of the output, H, given the current_theta and X\n",
    "    # compute loss function J, given H, and y\n",
    "    # compute gradient of this loss function against current_theta\n",
    "    H = prediction(X, current_theta) # H.shape: m*1\n",
    "    \n",
    "    return np.dot(X.T, (H - y)) / X.shape[0]  # shape: (p+1)*1\n",
    "\n",
    "    #     or, you can use non-matrix calculation\n",
    "    #     # X.shape: m*(p+1), X.T.shape: (p+1)* m\n",
    "    #     m = X.shape[0]\n",
    "    #     p = X.shape[1] - 1\n",
    "    #     gradients = []\n",
    "    #     for j in range(p + 1):\n",
    "    #         gradient_j = 0\n",
    "    #         for i in range(m):\n",
    "    #             gradient_j += (H[i] - y[i]) * X[i, j]\n",
    "    #         gradients.append(np.sum(gradient_j) / m)\n",
    "\n",
    "    #     return np.array(gradients)"
   ]
  },
  {
   "cell_type": "markdown",
   "metadata": {},
   "source": [
    "- <b>Step 3</b>\n",
    "\n",
    "  - Verify your gradient computation\n",
    "  \n",
    "  According to the definition of gradient: \n",
    "  <center>\n",
    "  $\\frac{\\partial{J}}{\\partial{\\theta}}=(\\frac{\\partial{J}}{\\partial{\\theta_0}},\\frac{\\partial{J}}{\\partial{\\theta_1}},\\ldots,\\frac{\\partial{J}}{\\partial{\\theta_p}})$\n",
    "  </center>\n",
    "  \n",
    "  That is, the gradient is just the generalization of derivatives to the multivariate situation.\n",
    "  \n",
    "  For derivatives, we know it is defined as:\n",
    "  \n",
    "  <center>\n",
    "  $\\frac{dJ(\\theta)}{d\\theta}=\\lim_{\\Delta\\rightarrow 0}\\frac{J(\\theta+\\delta)-J(\\theta-\\delta)}{2\\delta}$,\n",
    "  </center>\n",
    "  \n",
    "  i.e., it can be computed by taking a really small step of $\\Delta$ from the original value of $\\theta$ and compute the difference between the new value of $J=J(\\theta+\\Delta)$ and the original value $J(\\theta)$, then divided by that very small step $\\Delta$.\n",
    "  \n",
    "  Similarly to derivatives, gradient can be computed in a similar fashion:\n",
    "  \n",
    "    <center>\n",
    "  $\\frac{\\partial{J}}{\\partial{\\theta}}=(\\frac{\\partial{J}}{\\partial{\\theta_0}},\\frac{\\partial{J}}{\\partial{\\theta_1}},\\ldots,\\frac{\\partial{J}}{\\partial{\\theta_p}})$\n",
    "  <br>\n",
    "  \n",
    "  $\\frac{\\partial{J(\\theta)}}{\\partial{\\theta_j}}=\\lim_{\\Delta\\rightarrow 0}\\frac{J(\\theta_j+\\delta)-J(\\theta_j-\\delta)}{2\\delta}$, for $j=0,1,\\ldots,p$\n",
    "  </center>\n",
    "  \n",
    "  Therefore, we can verify the correctness of your computed gradients by checking whether it is approximately the value of $\\frac{J(\\theta_j+\\delta)-J(\\theta_j-\\delta)}{2\\delta}$ when $\\delta$ is a very small number.\n",
    "  \n",
    "  Here, we provide the verification code for you, but please study the code carefully to understand the idea behind it. If, in training time later, your computed gradients (the `loss_gradient` function defined ealier) do not pass this verification code, it means your implementation of the `loss_gradient` function is very likely wrong."
   ]
  },
  {
   "cell_type": "code",
   "execution_count": 24,
   "metadata": {},
   "outputs": [],
   "source": [
    "from copy import deepcopy\n",
    "\n",
    "\n",
    "def check_loss_gradient(X, y, current_theta):\n",
    "    gradients = loss_gradient(X, y, current_theta)\n",
    "    # gradients: a 1-D vector with p+1 values, i.e., gradients[i] is the i-th partial derivative, \n",
    "    \n",
    "    delta = 1e-5\n",
    "    \n",
    "    current_loss = loss(X, y, current_theta)\n",
    "    \n",
    "    approx_gradients = []\n",
    "    for j in range(len(current_theta)):\n",
    "        forward_theta = deepcopy(current_theta) # we cannot use `forward_theta=current_theta`\n",
    "        # as this will be a shallow copy, and when we modify `forward_theta`, the original current_theta\n",
    "        # will be modified as well\n",
    "        \n",
    "        forward_theta[j] = forward_theta[j] + delta # we only add delta to the j-th parameter\n",
    "        backward_theta = deepcopy(current_theta)\n",
    "        backward_theta[j] -= delta # we only subtract delta to the j-th parameter\n",
    "        \n",
    "        forward_loss = loss(X, y, forward_theta)\n",
    "        backward_loss = loss(X, y, backward_theta)\n",
    "        approx_gradient_j = (forward_loss - backward_loss) / (2*delta)\n",
    "        \n",
    "        approx_gradients.append(approx_gradient_j)\n",
    "    \n",
    "    return np.allclose(gradients, approx_gradients)"
   ]
  },
  {
   "cell_type": "code",
   "execution_count": 25,
   "metadata": {
    "scrolled": true
   },
   "outputs": [
    {
     "data": {
      "text/plain": [
       "True"
      ]
     },
     "execution_count": 25,
     "metadata": {},
     "output_type": "execute_result"
    }
   ],
   "source": [
    "# for example, you should be seeing `True` returned by calling:\n",
    "check_loss_gradient(X=X_train, y=y_train, current_theta=initialize_theta(dim=X_train.shape[1]))"
   ]
  },
  {
   "cell_type": "markdown",
   "metadata": {},
   "source": [
    "- <b>Step 3</b>\n",
    "\n",
    "  - Define a learning rate $\\alpha$, which would be the step size to update each $\\theta_i$, $\\theta_i=\\theta_i - \\alpha \\times loss\\_gradient_i$. Repeatedly updating all $\\theta_i$'s until the loss converges."
   ]
  },
  {
   "cell_type": "code",
   "execution_count": 26,
   "metadata": {},
   "outputs": [],
   "source": [
    "# Step 4:\n",
    "\n",
    "def update_theta(gradient, current_theta, step_size):\n",
    "    # TODO: implement theta update logic\n",
    "     return current_theta - step_size * gradient"
   ]
  },
  {
   "cell_type": "code",
   "execution_count": 27,
   "metadata": {},
   "outputs": [],
   "source": [
    "# We put the skeleton code here for you\n",
    "\n",
    "# convert pandas dataframe into numpy arrays\n",
    "X_train = np.array(X_train)\n",
    "y_train = np.array(y_train)\n",
    "X_test = np.array(X_test)\n",
    "y_test = np.array(y_test)\n",
    "\n",
    "# initialization:\n",
    "precision = 0.0001\n",
    "step_size = 0.1 # use your own step_size\n",
    "current_theta = initialize_theta(dim=X_train.shape[1]) # you need to determine the input value to `dim`\n",
    "current_loss = loss(X_train, y_train, current_theta)\n",
    "losses = [current_loss]"
   ]
  },
  {
   "cell_type": "code",
   "execution_count": 28,
   "metadata": {},
   "outputs": [
    {
     "name": "stdout",
     "output_type": "stream",
     "text": [
      "converge after 332 iterations\n"
     ]
    }
   ],
   "source": [
    "# main graident descent loop\n",
    "while len(losses) < 2 or abs(losses[-1] - losses[-2]) > precision: # all some other convergence condition\n",
    "    gradient = loss_gradient(X_train, y_train, current_theta)\n",
    "    if not check_loss_gradient(X_train, y_train, current_theta):\n",
    "        print('Check your gradient implementation!')\n",
    "        break\n",
    "        \n",
    "    current_theta = update_theta(gradient, current_theta, step_size)\n",
    "    \n",
    "    # compute current loss\n",
    "    current_loss = loss(X_train, y_train, current_theta)\n",
    "    losses.append(current_loss)\n",
    "    \n",
    "# once converged, current_theta are therefore the coefficients in the linear regression model  \n",
    "print(f'converge after {len(losses)} iterations')"
   ]
  },
  {
   "cell_type": "code",
   "execution_count": 29,
   "metadata": {},
   "outputs": [
    {
     "data": {
      "image/png": "[encoded data removed]",
      "text/plain": [
       "<matplotlib.figure.Figure at 0xb9987b8>"
      ]
     },
     "metadata": {},
     "output_type": "display_data"
    }
   ],
   "source": [
    "# plot loss against number of iterations\n",
    "\n",
    "import matplotlib.pyplot as plt\n",
    "fig = plt.figure(figsize=(12, 6))\n",
    "plt.plot(range(len(losses)), losses)\n",
    "plt.show()"
   ]
  },
  {
   "cell_type": "markdown",
   "metadata": {},
   "source": [
    "- <b>Step 5</b>\n",
    "\n",
    "  - Calculate the classification evaluation metrics (precision, recall, f1, and accuracy) when applying your model on the test data"
   ]
  },
  {
   "cell_type": "code",
   "execution_count": 31,
   "metadata": {},
   "outputs": [
    {
     "name": "stdout",
     "output_type": "stream",
     "text": [
      "             precision    recall  f1-score   support\n",
      "\n",
      "        0.0       1.00      1.00      1.00         8\n",
      "        1.0       1.00      1.00      1.00        22\n",
      "\n",
      "avg / total       1.00      1.00      1.00        30\n",
      "\n",
      "accuracy: 100.0%\n"
     ]
    }
   ],
   "source": [
    "# Step 5\n",
    "from sklearn.metrics.classification import classification_report, accuracy_score\n",
    "\n",
    "y_pred = 1/(1 + np.exp(-np.dot(X_test, np.array(current_theta))))\n",
    "y_pred[np.where(y_pred >= 0.5)[0]] = 1\n",
    "y_pred[np.where(y_pred < 0.5)[0]] = 0\n",
    "\n",
    "print(classification_report(y_pred, y_test))\n",
    "accuracy = accuracy_score(y_pred, y_test)\n",
    "print('accuracy: %.1f%%' % (accuracy * 100.0))"
   ]
  }
 ],
 "metadata": {
  "kernelspec": {
   "display_name": "Python 3",
   "language": "python",
   "name": "python3"
  },
  "language_info": {
   "codemirror_mode": {
    "name": "ipython",
    "version": 3
   },
   "file_extension": ".py",
   "mimetype": "text/x-python",
   "name": "python",
   "nbconvert_exporter": "python",
   "pygments_lexer": "ipython3",
   "version": "3.6.4"
  }
 },
 "nbformat": 4,
 "nbformat_minor": 2
}
