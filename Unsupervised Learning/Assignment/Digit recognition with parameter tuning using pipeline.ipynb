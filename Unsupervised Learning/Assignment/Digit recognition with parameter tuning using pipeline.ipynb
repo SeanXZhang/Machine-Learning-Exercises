{
 "cells": [
  {
   "cell_type": "markdown",
   "metadata": {},
   "source": [
    "<img src='https://weclouddata.com/wp-content/uploads/2016/11/logo.png' width='30%'>\n",
    "-------------\n",
    "\n",
    "<h3 align='center'> Applied Machine Learning Course - Assignment Week 8 </h3>\n",
    "<h1 align='center'> Digit Recognizer\n",
    " </h1>\n",
    "\n",
    "<br>\n",
    "<center align=\"left\"> Developed by:</center>\n",
    "<center align=\"left\"> WeCloudData Academy </center>\n"
   ]
  },
  {
   "cell_type": "markdown",
   "metadata": {},
   "source": [
    "In Week 5, we have practiced using SVM to classify the [MNIST database](https://en.wikipedia.org/wiki/MNIST_database). \n",
    "\n",
    "In the lab this week, we practiced performing PCA dimension reduction on the data as a preprocessing step prior to training the model. We achieved this by two approaches:\n",
    "\n",
    "1. Manually chaining the following preprocessing steps and the actual model training step:\n",
    "    - Loading image data\n",
    "    - Flattening image pixels\n",
    "    - Standardizing pixel values\n",
    "    - Perform PCA\n",
    "    - Model fitting\n",
    "\n",
    "2. Taking advantage of sklearn's `Pipeline` class to easily chain steps together and set parameters for each step on the fly."
   ]
  },
  {
   "cell_type": "markdown",
   "metadata": {},
   "source": [
    "In this assignment, you will further experience the convenience of `Pipeline` by adding the ability to perform parameter tuning for each step, such as tuning the dimensionality of PCA and hyper-parameters of your SVM model.\n",
    "\n",
    "Some useful reference to achieve this goal can be found here:\n",
    "\n",
    "http://scikit-learn.org/stable/auto_examples/plot_compare_reduction.html\n",
    "\n",
    "Please implement your solution using Pycharm.\n",
    "\n",
    "> Since the MNIST dataset is already pretty low-dimensional, you might not find dimension reduction being very useful. However, the purpose of this assignment is to enhance your knowledge and experience with sklearn's convenient `Pipeline` class."
   ]
  }
 ],
 "metadata": {
  "kernelspec": {
   "display_name": "Python 3",
   "language": "python",
   "name": "python3"
  },
  "language_info": {
   "codemirror_mode": {
    "name": "ipython",
    "version": 3
   },
   "file_extension": ".py",
   "mimetype": "text/x-python",
   "name": "python",
   "nbconvert_exporter": "python",
   "pygments_lexer": "ipython3",
   "version": "3.7.4"
  },
  "toc": {
   "base_numbering": 1,
   "nav_menu": {},
   "number_sections": true,
   "sideBar": true,
   "skip_h1_title": false,
   "title_cell": "Table of Contents",
   "title_sidebar": "Contents",
   "toc_cell": false,
   "toc_position": {},
   "toc_section_display": true,
   "toc_window_display": false
  }
 },
 "nbformat": 4,
 "nbformat_minor": 2
}
