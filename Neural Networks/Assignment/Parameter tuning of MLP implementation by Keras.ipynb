{
 "cells": [
  {
   "cell_type": "markdown",
   "metadata": {},
   "source": [
    "<img src='https://weclouddata.com/wp-content/uploads/2016/11/logo.png' width='30%'>\n",
    "-------------\n",
    "\n",
    "<h3 align='center'> Applied Machine Learning Course - Assignment Week 9 </h3>\n",
    "<h1 align='center'> Parameter tuning of MLP implementation by Keras\n",
    " </h1>\n",
    "\n",
    "<br>\n",
    "<center align=\"left\"> Developed by:</center>\n",
    "<center align=\"left\"> WeCloudData Academy </center>\n"
   ]
  },
  {
   "cell_type": "markdown",
   "metadata": {},
   "source": [
    "In this week's lab, we saw how to implement MLP using Keras, which allows more flexibility in network architecture, compared to the black-boxy implementation by sklearn. \n",
    "\n",
    "However, Keras does not have all the nice features as in sklearn, such as the ability to automatically perform parameter tuning using `GridSearch` or `RandomizedGridSearch`. Fortunately, Keras provides an wrapper (`keras.wrappers.scikit_learn.py`) so you can use Keras models in sklearn's pipeline.\n",
    "\n",
    "We have seen an example of using this wrapper to wrap the Keras model as an `KerasClassifier` object and call the `.fit()` and `.predict()` function on it, as we do for traditional sklearn classifiers."
   ]
  },
  {
   "cell_type": "markdown",
   "metadata": {},
   "source": [
    "In this assignment, you will build upon the `mlp/models/mlp_keras_sklearn_api.py` example and plug this `KerasClassifier` model into sklearn's parameter tuning pipeline.\n",
    "\n",
    "## Requirements:\n",
    "\n",
    "Use the same dataset (keras' MNIST dataset) for this assignment:\n",
    "\n",
    "1. Wrap the Keras sequential model into a `KerasClassifier` model (this is already done in the lab example).\n",
    "2. Perform sklearn's randomized grid search of your `KerasClassfieir` model on parameters including the following:\n",
    "   - number of neurons in each hidden layer\n",
    "   - (optional) number of hidden layers (how to implement a dynamic number of hidden layers in the Keras model?)\n",
    "   - number of epochs (number of iterations)\n",
    "   - activation function (possible activation functions in Keras: https://keras.io/activations/)\n",
    "3. Report the best performance for your parameter tuning result."
   ]
  }
 ],
 "metadata": {
  "kernelspec": {
   "display_name": "Python 3",
   "language": "python",
   "name": "python3"
  },
  "language_info": {
   "codemirror_mode": {
    "name": "ipython",
    "version": 3
   },
   "file_extension": ".py",
   "mimetype": "text/x-python",
   "name": "python",
   "nbconvert_exporter": "python",
   "pygments_lexer": "ipython3",
   "version": "3.6.6"
  }
 },
 "nbformat": 4,
 "nbformat_minor": 2
}
