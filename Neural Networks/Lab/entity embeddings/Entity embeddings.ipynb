{
 "cells": [
  {
   "cell_type": "markdown",
   "metadata": {},
   "source": [
    "This is a breakdown and understanding of the implementation of Joe Eddy solution to [Kaggle’s Safe Driver Prediction Challenge](https://www.kaggle.com/aquatic/entity-embedding-neural-net/data)"
   ]
  },
  {
   "cell_type": "code",
   "execution_count": 1,
   "metadata": {
    "ExecuteTime": {
     "end_time": "2019-08-24T12:34:38.932932Z",
     "start_time": "2019-08-24T12:34:37.166789Z"
    }
   },
   "outputs": [],
   "source": [
    "import numpy as np\n",
    "import pandas as pd\n",
    "\n",
    "from tensorflow.keras.models import Model\n",
    "from tensorflow.keras.layers import Input, Dense, Concatenate, Reshape, Dropout\n",
    "from tensorflow.keras.layers import Embedding, concatenate\n",
    "from tensorflow.keras.models import Sequential\n",
    "from tensorflow.keras import models\n",
    "\n",
    "from sklearn.model_selection import StratifiedKFold\n"
   ]
  },
  {
   "cell_type": "markdown",
   "metadata": {},
   "source": [
    "## Data Description\n",
    "In this competition, you will predict the probability that an auto insurance policy holder files a claim.\n",
    "\n",
    "In the train and test data, features that belong to similar groupings are tagged as such in the feature names (e.g., **ind, reg, car, calc**). In addition, feature names include the postfix bin to indicate binary features and cat to indicate categorical features. Features without these designations are either continuous or ordinal. Values of -1 indicate that the feature was missing from the observation. The target columns signifies whether or not a claim was filed for that policy holder."
   ]
  },
  {
   "cell_type": "code",
   "execution_count": 2,
   "metadata": {
    "ExecuteTime": {
     "end_time": "2019-08-24T12:34:43.414653Z",
     "start_time": "2019-08-24T12:34:38.935693Z"
    }
   },
   "outputs": [],
   "source": [
    "#Data loading & preprocessing\n",
    "df_train = pd.read_csv('data/train.csv')\n",
    "df_test = pd.read_csv('data/test.csv')\n",
    "\n",
    "X_train, y_train = df_train.iloc[:,2:], df_train.target\n",
    "X_test = df_test.iloc[:,1:]"
   ]
  },
  {
   "cell_type": "code",
   "execution_count": 3,
   "metadata": {
    "ExecuteTime": {
     "end_time": "2019-08-24T12:34:43.426044Z",
     "start_time": "2019-08-24T12:34:43.416687Z"
    }
   },
   "outputs": [
    {
     "data": {
      "text/plain": [
       "Index(['ps_ind_01', 'ps_ind_02_cat', 'ps_ind_03', 'ps_ind_04_cat',\n",
       "       'ps_ind_05_cat', 'ps_ind_06_bin', 'ps_ind_07_bin', 'ps_ind_08_bin',\n",
       "       'ps_ind_09_bin', 'ps_ind_10_bin', 'ps_ind_11_bin', 'ps_ind_12_bin',\n",
       "       'ps_ind_13_bin', 'ps_ind_14', 'ps_ind_15', 'ps_ind_16_bin',\n",
       "       'ps_ind_17_bin', 'ps_ind_18_bin', 'ps_reg_01', 'ps_reg_02', 'ps_reg_03',\n",
       "       'ps_car_01_cat', 'ps_car_02_cat', 'ps_car_03_cat', 'ps_car_04_cat',\n",
       "       'ps_car_05_cat', 'ps_car_06_cat', 'ps_car_07_cat', 'ps_car_08_cat',\n",
       "       'ps_car_09_cat', 'ps_car_10_cat', 'ps_car_11_cat', 'ps_car_11',\n",
       "       'ps_car_12', 'ps_car_13', 'ps_car_14', 'ps_car_15', 'ps_calc_01',\n",
       "       'ps_calc_02', 'ps_calc_03', 'ps_calc_04', 'ps_calc_05', 'ps_calc_06',\n",
       "       'ps_calc_07', 'ps_calc_08', 'ps_calc_09', 'ps_calc_10', 'ps_calc_11',\n",
       "       'ps_calc_12', 'ps_calc_13', 'ps_calc_14', 'ps_calc_15_bin',\n",
       "       'ps_calc_16_bin', 'ps_calc_17_bin', 'ps_calc_18_bin', 'ps_calc_19_bin',\n",
       "       'ps_calc_20_bin'],\n",
       "      dtype='object')"
      ]
     },
     "execution_count": 3,
     "metadata": {},
     "output_type": "execute_result"
    }
   ],
   "source": [
    "X_train.columns"
   ]
  },
  {
   "cell_type": "markdown",
   "metadata": {},
   "source": [
    "To save time for data preprocessing, let's focus on the features not tagged **_calc_**."
   ]
  },
  {
   "cell_type": "code",
   "execution_count": 4,
   "metadata": {
    "ExecuteTime": {
     "end_time": "2019-08-24T12:34:43.664152Z",
     "start_time": "2019-08-24T12:34:43.429088Z"
    }
   },
   "outputs": [],
   "source": [
    "cols_use = [c for c in X_train.columns if (not c.startswith('ps_calc_'))]\n",
    "\n",
    "X_train = X_train[cols_use]\n",
    "X_test = X_test[cols_use]"
   ]
  },
  {
   "cell_type": "code",
   "execution_count": 5,
   "metadata": {
    "ExecuteTime": {
     "end_time": "2019-08-24T12:34:43.671076Z",
     "start_time": "2019-08-24T12:34:43.667374Z"
    }
   },
   "outputs": [
    {
     "data": {
      "text/plain": [
       "Index(['ps_ind_01', 'ps_ind_02_cat', 'ps_ind_03', 'ps_ind_04_cat',\n",
       "       'ps_ind_05_cat', 'ps_ind_06_bin', 'ps_ind_07_bin', 'ps_ind_08_bin',\n",
       "       'ps_ind_09_bin', 'ps_ind_10_bin', 'ps_ind_11_bin', 'ps_ind_12_bin',\n",
       "       'ps_ind_13_bin', 'ps_ind_14', 'ps_ind_15', 'ps_ind_16_bin',\n",
       "       'ps_ind_17_bin', 'ps_ind_18_bin', 'ps_reg_01', 'ps_reg_02', 'ps_reg_03',\n",
       "       'ps_car_01_cat', 'ps_car_02_cat', 'ps_car_03_cat', 'ps_car_04_cat',\n",
       "       'ps_car_05_cat', 'ps_car_06_cat', 'ps_car_07_cat', 'ps_car_08_cat',\n",
       "       'ps_car_09_cat', 'ps_car_10_cat', 'ps_car_11_cat', 'ps_car_11',\n",
       "       'ps_car_12', 'ps_car_13', 'ps_car_14', 'ps_car_15'],\n",
       "      dtype='object')"
      ]
     },
     "execution_count": 5,
     "metadata": {},
     "output_type": "execute_result"
    }
   ],
   "source": [
    "X_train.columns"
   ]
  },
  {
   "cell_type": "markdown",
   "metadata": {},
   "source": [
    "## Data preprocessing - categoricals"
   ]
  },
  {
   "cell_type": "markdown",
   "metadata": {},
   "source": [
    "Now, let's split columns into categoricals and others. First of all, we will create a dictionary to save the names of categorical columns."
   ]
  },
  {
   "cell_type": "code",
   "execution_count": 6,
   "metadata": {
    "ExecuteTime": {
     "end_time": "2019-08-24T12:34:43.715382Z",
     "start_time": "2019-08-24T12:34:43.673689Z"
    }
   },
   "outputs": [
    {
     "data": {
      "text/plain": [
       "{'ps_ind_02_cat': [2, 1, 4, 3, -1],\n",
       " 'ps_ind_04_cat': [1, 0, -1],\n",
       " 'ps_ind_05_cat': [0, 1, 4, 3, 6, 5, -1, 2],\n",
       " 'ps_car_01_cat': [10, 11, 7, 6, 9, 5, 4, 8, 3, 0, 2, 1, -1],\n",
       " 'ps_car_02_cat': [1, 0, -1],\n",
       " 'ps_car_03_cat': [-1, 0, 1],\n",
       " 'ps_car_04_cat': [0, 1, 8, 9, 2, 6, 3, 7, 4, 5],\n",
       " 'ps_car_05_cat': [1, -1, 0],\n",
       " 'ps_car_06_cat': [4,\n",
       "  11,\n",
       "  14,\n",
       "  13,\n",
       "  6,\n",
       "  15,\n",
       "  3,\n",
       "  0,\n",
       "  1,\n",
       "  10,\n",
       "  12,\n",
       "  9,\n",
       "  17,\n",
       "  7,\n",
       "  8,\n",
       "  5,\n",
       "  2,\n",
       "  16],\n",
       " 'ps_car_07_cat': [1, -1, 0],\n",
       " 'ps_car_08_cat': [0, 1],\n",
       " 'ps_car_09_cat': [0, 2, 3, 1, -1, 4],\n",
       " 'ps_car_10_cat': [1, 0, 2],\n",
       " 'ps_car_11_cat': [12,\n",
       "  19,\n",
       "  60,\n",
       "  104,\n",
       "  82,\n",
       "  99,\n",
       "  30,\n",
       "  68,\n",
       "  20,\n",
       "  36,\n",
       "  101,\n",
       "  103,\n",
       "  41,\n",
       "  59,\n",
       "  43,\n",
       "  64,\n",
       "  29,\n",
       "  95,\n",
       "  24,\n",
       "  5,\n",
       "  28,\n",
       "  87,\n",
       "  66,\n",
       "  10,\n",
       "  26,\n",
       "  54,\n",
       "  32,\n",
       "  38,\n",
       "  83,\n",
       "  89,\n",
       "  49,\n",
       "  93,\n",
       "  1,\n",
       "  22,\n",
       "  85,\n",
       "  78,\n",
       "  31,\n",
       "  34,\n",
       "  7,\n",
       "  8,\n",
       "  3,\n",
       "  46,\n",
       "  27,\n",
       "  25,\n",
       "  61,\n",
       "  16,\n",
       "  69,\n",
       "  40,\n",
       "  76,\n",
       "  39,\n",
       "  88,\n",
       "  42,\n",
       "  75,\n",
       "  91,\n",
       "  23,\n",
       "  2,\n",
       "  71,\n",
       "  90,\n",
       "  80,\n",
       "  44,\n",
       "  92,\n",
       "  72,\n",
       "  96,\n",
       "  86,\n",
       "  62,\n",
       "  33,\n",
       "  67,\n",
       "  73,\n",
       "  77,\n",
       "  18,\n",
       "  21,\n",
       "  74,\n",
       "  37,\n",
       "  48,\n",
       "  70,\n",
       "  13,\n",
       "  15,\n",
       "  102,\n",
       "  53,\n",
       "  65,\n",
       "  100,\n",
       "  51,\n",
       "  79,\n",
       "  52,\n",
       "  63,\n",
       "  94,\n",
       "  6,\n",
       "  57,\n",
       "  35,\n",
       "  98,\n",
       "  56,\n",
       "  97,\n",
       "  55,\n",
       "  84,\n",
       "  50,\n",
       "  4,\n",
       "  58,\n",
       "  9,\n",
       "  17,\n",
       "  11,\n",
       "  45,\n",
       "  14,\n",
       "  81,\n",
       "  47]}"
      ]
     },
     "execution_count": 6,
     "metadata": {},
     "output_type": "execute_result"
    }
   ],
   "source": [
    "col_vals_dict = {c: list(X_train[c].unique()) for c in X_train.columns if c.endswith('_cat')}\n",
    "col_vals_dict"
   ]
  },
  {
   "cell_type": "code",
   "execution_count": 7,
   "metadata": {
    "ExecuteTime": {
     "end_time": "2019-08-24T12:34:43.721324Z",
     "start_time": "2019-08-24T12:34:43.716978Z"
    }
   },
   "outputs": [
    {
     "name": "stdout",
     "output_type": "stream",
     "text": [
      "ps_ind_02_cat: 5 values\n",
      "ps_ind_04_cat: 3 values\n",
      "ps_ind_05_cat: 8 values\n",
      "ps_car_01_cat: 13 values\n",
      "ps_car_02_cat: 3 values\n",
      "ps_car_03_cat: 3 values\n",
      "ps_car_04_cat: 10 values\n",
      "ps_car_05_cat: 3 values\n",
      "ps_car_06_cat: 18 values\n",
      "ps_car_07_cat: 3 values\n",
      "ps_car_09_cat: 6 values\n",
      "ps_car_10_cat: 3 values\n",
      "ps_car_11_cat: 104 values\n",
      "\n",
      "\n"
     ]
    }
   ],
   "source": [
    "#look at value counts to know the embedding dimensions\n",
    "embed_cols = []\n",
    "\n",
    "for c in col_vals_dict:\n",
    "    if len(col_vals_dict[c])>2:\n",
    "        embed_cols.append(c)\n",
    "        print(c + ': %d values' % len(col_vals_dict[c])) \n",
    "print('\\n')"
   ]
  },
  {
   "cell_type": "markdown",
   "metadata": {},
   "source": [
    "In the code below, for each of the categorical variables present in the data-set we are defining a embedding model. The embedding size is set according to the rules given in the class. We reshape the model output to a single 1-D array of size = embedding size."
   ]
  },
  {
   "cell_type": "code",
   "execution_count": 8,
   "metadata": {
    "ExecuteTime": {
     "end_time": "2019-08-24T12:34:43.930672Z",
     "start_time": "2019-08-24T12:34:43.723510Z"
    }
   },
   "outputs": [],
   "source": [
    "inputs = []\n",
    "embeddings = []\n",
    "\n",
    "input_ps_ind_02_cat = Input(shape=(1,))\n",
    "embedding = Embedding(5, 3, input_length=1)(input_ps_ind_02_cat)\n",
    "embedding = Reshape(target_shape=(3,))(embedding)\n",
    "inputs.append(input_ps_ind_02_cat)\n",
    "embeddings.append(embedding)\n",
    "\n",
    "input_ps_ind_04_cat = Input(shape=(1,))\n",
    "embedding = Embedding(3, 2, input_length=1)(input_ps_ind_04_cat)\n",
    "embedding = Reshape(target_shape=(2,))(embedding)\n",
    "inputs.append(input_ps_ind_04_cat)\n",
    "embeddings.append(embedding)\n",
    "\n",
    "input_ps_ind_05_cat = Input(shape=(1,))\n",
    "embedding = Embedding(8, 5, input_length=1)(input_ps_ind_05_cat)\n",
    "embedding = Reshape(target_shape=(5,))(embedding)\n",
    "inputs.append(input_ps_ind_05_cat)\n",
    "embeddings.append(embedding)\n",
    "\n",
    "input_ps_car_01_cat = Input(shape=(1,))\n",
    "embedding = Embedding(13, 7, input_length=1)(input_ps_car_01_cat)\n",
    "embedding = Reshape(target_shape=(7,))(embedding)\n",
    "inputs.append(input_ps_car_01_cat)\n",
    "embeddings.append(embedding)\n",
    "\n",
    "input_ps_car_02_cat = Input(shape=(1,))\n",
    "embedding = Embedding(3, 2, input_length=1)(input_ps_car_02_cat)\n",
    "embedding = Reshape(target_shape=(2,))(embedding)\n",
    "inputs.append(input_ps_car_02_cat)\n",
    "embeddings.append(embedding)\n",
    "\n",
    "input_ps_car_03_cat = Input(shape=(1,))\n",
    "embedding = Embedding(3, 2, input_length=1)(input_ps_car_03_cat)\n",
    "embedding = Reshape(target_shape=(2,))(embedding)\n",
    "inputs.append(input_ps_car_03_cat)\n",
    "embeddings.append(embedding)\n",
    "\n",
    "input_ps_car_04_cat = Input(shape=(1,))\n",
    "embedding = Embedding(10, 5, input_length=1)(input_ps_car_04_cat)\n",
    "embedding = Reshape(target_shape=(5,))(embedding)\n",
    "inputs.append(input_ps_car_04_cat)\n",
    "embeddings.append(embedding)\n",
    "\n",
    "input_ps_car_05_cat = Input(shape=(1,))\n",
    "embedding = Embedding(3, 2, input_length=1)(input_ps_car_05_cat)\n",
    "embedding = Reshape(target_shape=(2,))(embedding)\n",
    "inputs.append(input_ps_car_05_cat)\n",
    "embeddings.append(embedding)\n",
    "\n",
    "input_ps_car_06_cat = Input(shape=(1,))\n",
    "embedding = Embedding(18, 8, input_length=1)(input_ps_car_06_cat)\n",
    "embedding = Reshape(target_shape=(8,))(embedding)\n",
    "inputs.append(input_ps_car_06_cat)\n",
    "embeddings.append(embedding)\n",
    "\n",
    "input_ps_car_07_cat = Input(shape=(1,))\n",
    "embedding = Embedding(3, 2, input_length=1)(input_ps_car_07_cat)\n",
    "embedding = Reshape(target_shape=(2,))(embedding)\n",
    "inputs.append(input_ps_car_07_cat)\n",
    "embeddings.append(embedding)\n",
    "\n",
    "input_ps_car_09_cat = Input(shape=(1,))\n",
    "embedding = Embedding(6, 3, input_length=1)(input_ps_car_09_cat)\n",
    "embedding = Reshape(target_shape=(3,))(embedding)\n",
    "inputs.append(input_ps_car_09_cat)\n",
    "embeddings.append(embedding)\n",
    "\n",
    "input_ps_car_10_cat = Input(shape=(1,))\n",
    "embedding = Embedding(3, 2, input_length=1)(input_ps_car_10_cat)\n",
    "embedding = Reshape(target_shape=(2,))(embedding)\n",
    "inputs.append(input_ps_car_10_cat)\n",
    "embeddings.append(embedding)\n",
    "\n",
    "input_ps_car_11_cat = Input(shape=(1,))\n",
    "embedding = Embedding(104, 10, input_length=1)(input_ps_car_11_cat)\n",
    "embedding = Reshape(target_shape=(10,))(embedding)\n",
    "inputs.append(input_ps_car_11_cat)\n",
    "embeddings.append(embedding)"
   ]
  },
  {
   "cell_type": "code",
   "execution_count": 9,
   "metadata": {
    "ExecuteTime": {
     "end_time": "2019-08-24T12:34:43.936566Z",
     "start_time": "2019-08-24T12:34:43.932412Z"
    }
   },
   "outputs": [
    {
     "data": {
      "text/plain": [
       "[<tf.Tensor 'reshape/Identity:0' shape=(None, 3) dtype=float32>,\n",
       " <tf.Tensor 'reshape_1/Identity:0' shape=(None, 2) dtype=float32>,\n",
       " <tf.Tensor 'reshape_2/Identity:0' shape=(None, 5) dtype=float32>,\n",
       " <tf.Tensor 'reshape_3/Identity:0' shape=(None, 7) dtype=float32>,\n",
       " <tf.Tensor 'reshape_4/Identity:0' shape=(None, 2) dtype=float32>,\n",
       " <tf.Tensor 'reshape_5/Identity:0' shape=(None, 2) dtype=float32>,\n",
       " <tf.Tensor 'reshape_6/Identity:0' shape=(None, 5) dtype=float32>,\n",
       " <tf.Tensor 'reshape_7/Identity:0' shape=(None, 2) dtype=float32>,\n",
       " <tf.Tensor 'reshape_8/Identity:0' shape=(None, 8) dtype=float32>,\n",
       " <tf.Tensor 'reshape_9/Identity:0' shape=(None, 2) dtype=float32>,\n",
       " <tf.Tensor 'reshape_10/Identity:0' shape=(None, 3) dtype=float32>,\n",
       " <tf.Tensor 'reshape_11/Identity:0' shape=(None, 2) dtype=float32>,\n",
       " <tf.Tensor 'reshape_12/Identity:0' shape=(None, 10) dtype=float32>]"
      ]
     },
     "execution_count": 9,
     "metadata": {},
     "output_type": "execute_result"
    }
   ],
   "source": [
    "embeddings"
   ]
  },
  {
   "cell_type": "code",
   "execution_count": 10,
   "metadata": {
    "ExecuteTime": {
     "end_time": "2019-08-24T12:34:43.942000Z",
     "start_time": "2019-08-24T12:34:43.938236Z"
    }
   },
   "outputs": [
    {
     "data": {
      "text/plain": [
       "[<tf.Tensor 'input_1:0' shape=(None, 1) dtype=float32>,\n",
       " <tf.Tensor 'input_2:0' shape=(None, 1) dtype=float32>,\n",
       " <tf.Tensor 'input_3:0' shape=(None, 1) dtype=float32>,\n",
       " <tf.Tensor 'input_4:0' shape=(None, 1) dtype=float32>,\n",
       " <tf.Tensor 'input_5:0' shape=(None, 1) dtype=float32>,\n",
       " <tf.Tensor 'input_6:0' shape=(None, 1) dtype=float32>,\n",
       " <tf.Tensor 'input_7:0' shape=(None, 1) dtype=float32>,\n",
       " <tf.Tensor 'input_8:0' shape=(None, 1) dtype=float32>,\n",
       " <tf.Tensor 'input_9:0' shape=(None, 1) dtype=float32>,\n",
       " <tf.Tensor 'input_10:0' shape=(None, 1) dtype=float32>,\n",
       " <tf.Tensor 'input_11:0' shape=(None, 1) dtype=float32>,\n",
       " <tf.Tensor 'input_12:0' shape=(None, 1) dtype=float32>,\n",
       " <tf.Tensor 'input_13:0' shape=(None, 1) dtype=float32>]"
      ]
     },
     "execution_count": 10,
     "metadata": {},
     "output_type": "execute_result"
    }
   ],
   "source": [
    "inputs"
   ]
  },
  {
   "cell_type": "markdown",
   "metadata": {},
   "source": [
    "## Data preprocessing - numericals\n",
    "\n",
    "### Check missing values"
   ]
  },
  {
   "cell_type": "code",
   "execution_count": 11,
   "metadata": {
    "ExecuteTime": {
     "end_time": "2019-08-24T12:34:44.013362Z",
     "start_time": "2019-08-24T12:34:43.943804Z"
    },
    "scrolled": true
   },
   "outputs": [
    {
     "data": {
      "text/plain": [
       "ps_ind_01        0\n",
       "ps_ind_02_cat    0\n",
       "ps_ind_03        0\n",
       "ps_ind_04_cat    0\n",
       "ps_ind_05_cat    0\n",
       "ps_ind_06_bin    0\n",
       "ps_ind_07_bin    0\n",
       "ps_ind_08_bin    0\n",
       "ps_ind_09_bin    0\n",
       "ps_ind_10_bin    0\n",
       "ps_ind_11_bin    0\n",
       "ps_ind_12_bin    0\n",
       "ps_ind_13_bin    0\n",
       "ps_ind_14        0\n",
       "ps_ind_15        0\n",
       "ps_ind_16_bin    0\n",
       "ps_ind_17_bin    0\n",
       "ps_ind_18_bin    0\n",
       "ps_reg_01        0\n",
       "ps_reg_02        0\n",
       "ps_reg_03        0\n",
       "ps_car_01_cat    0\n",
       "ps_car_02_cat    0\n",
       "ps_car_03_cat    0\n",
       "ps_car_04_cat    0\n",
       "ps_car_05_cat    0\n",
       "ps_car_06_cat    0\n",
       "ps_car_07_cat    0\n",
       "ps_car_08_cat    0\n",
       "ps_car_09_cat    0\n",
       "ps_car_10_cat    0\n",
       "ps_car_11_cat    0\n",
       "ps_car_11        0\n",
       "ps_car_12        0\n",
       "ps_car_13        0\n",
       "ps_car_14        0\n",
       "ps_car_15        0\n",
       "dtype: int64"
      ]
     },
     "execution_count": 11,
     "metadata": {},
     "output_type": "execute_result"
    }
   ],
   "source": [
    "X_train.isnull().sum()"
   ]
  },
  {
   "cell_type": "markdown",
   "metadata": {},
   "source": [
    "### $\\Omega$ Practice: rescale all numerical features "
   ]
  },
  {
   "cell_type": "code",
   "execution_count": 12,
   "metadata": {
    "ExecuteTime": {
     "end_time": "2019-08-24T12:34:44.017488Z",
     "start_time": "2019-08-24T12:34:44.015506Z"
    }
   },
   "outputs": [],
   "source": [
    "#### please insert your code here ####\n",
    "\n",
    "\n"
   ]
  },
  {
   "cell_type": "markdown",
   "metadata": {},
   "source": [
    "## Model"
   ]
  },
  {
   "cell_type": "code",
   "execution_count": 13,
   "metadata": {
    "ExecuteTime": {
     "end_time": "2019-08-24T12:34:44.023881Z",
     "start_time": "2019-08-24T12:34:44.019779Z"
    }
   },
   "outputs": [
    {
     "data": {
      "text/plain": [
       "Index(['ps_ind_01', 'ps_ind_02_cat', 'ps_ind_03', 'ps_ind_04_cat',\n",
       "       'ps_ind_05_cat', 'ps_ind_06_bin', 'ps_ind_07_bin', 'ps_ind_08_bin',\n",
       "       'ps_ind_09_bin', 'ps_ind_10_bin', 'ps_ind_11_bin', 'ps_ind_12_bin',\n",
       "       'ps_ind_13_bin', 'ps_ind_14', 'ps_ind_15', 'ps_ind_16_bin',\n",
       "       'ps_ind_17_bin', 'ps_ind_18_bin', 'ps_reg_01', 'ps_reg_02', 'ps_reg_03',\n",
       "       'ps_car_01_cat', 'ps_car_02_cat', 'ps_car_03_cat', 'ps_car_04_cat',\n",
       "       'ps_car_05_cat', 'ps_car_06_cat', 'ps_car_07_cat', 'ps_car_08_cat',\n",
       "       'ps_car_09_cat', 'ps_car_10_cat', 'ps_car_11_cat', 'ps_car_11',\n",
       "       'ps_car_12', 'ps_car_13', 'ps_car_14', 'ps_car_15'],\n",
       "      dtype='object')"
      ]
     },
     "execution_count": 13,
     "metadata": {},
     "output_type": "execute_result"
    }
   ],
   "source": [
    "X_train.columns"
   ]
  },
  {
   "cell_type": "code",
   "execution_count": 14,
   "metadata": {
    "ExecuteTime": {
     "end_time": "2019-08-24T12:34:44.030537Z",
     "start_time": "2019-08-24T12:34:44.026083Z"
    }
   },
   "outputs": [
    {
     "data": {
      "text/plain": [
       "24"
      ]
     },
     "execution_count": 14,
     "metadata": {},
     "output_type": "execute_result"
    }
   ],
   "source": [
    "other_cols = [c for c in X_train.columns if (not c in embed_cols)]\n",
    "len(other_cols)"
   ]
  },
  {
   "cell_type": "code",
   "execution_count": 15,
   "metadata": {
    "ExecuteTime": {
     "end_time": "2019-08-24T12:34:44.047980Z",
     "start_time": "2019-08-24T12:34:44.032530Z"
    }
   },
   "outputs": [],
   "source": [
    "input_numeric = Input(shape=(24,))\n",
    "embedding_numeric = Dense(16)(input_numeric) \n",
    "\n",
    "inputs.append(input_numeric)\n",
    "embeddings.append(embedding_numeric)"
   ]
  },
  {
   "cell_type": "code",
   "execution_count": 16,
   "metadata": {
    "ExecuteTime": {
     "end_time": "2019-08-24T12:34:44.053849Z",
     "start_time": "2019-08-24T12:34:44.050211Z"
    },
    "scrolled": false
   },
   "outputs": [
    {
     "data": {
      "text/plain": [
       "[<tf.Tensor 'input_1:0' shape=(None, 1) dtype=float32>,\n",
       " <tf.Tensor 'input_2:0' shape=(None, 1) dtype=float32>,\n",
       " <tf.Tensor 'input_3:0' shape=(None, 1) dtype=float32>,\n",
       " <tf.Tensor 'input_4:0' shape=(None, 1) dtype=float32>,\n",
       " <tf.Tensor 'input_5:0' shape=(None, 1) dtype=float32>,\n",
       " <tf.Tensor 'input_6:0' shape=(None, 1) dtype=float32>,\n",
       " <tf.Tensor 'input_7:0' shape=(None, 1) dtype=float32>,\n",
       " <tf.Tensor 'input_8:0' shape=(None, 1) dtype=float32>,\n",
       " <tf.Tensor 'input_9:0' shape=(None, 1) dtype=float32>,\n",
       " <tf.Tensor 'input_10:0' shape=(None, 1) dtype=float32>,\n",
       " <tf.Tensor 'input_11:0' shape=(None, 1) dtype=float32>,\n",
       " <tf.Tensor 'input_12:0' shape=(None, 1) dtype=float32>,\n",
       " <tf.Tensor 'input_13:0' shape=(None, 1) dtype=float32>,\n",
       " <tf.Tensor 'input_14:0' shape=(None, 24) dtype=float32>]"
      ]
     },
     "execution_count": 16,
     "metadata": {},
     "output_type": "execute_result"
    }
   ],
   "source": [
    "inputs"
   ]
  },
  {
   "cell_type": "code",
   "execution_count": 24,
   "metadata": {
    "ExecuteTime": {
     "end_time": "2019-08-24T15:38:54.450796Z",
     "start_time": "2019-08-24T15:38:54.446394Z"
    }
   },
   "outputs": [
    {
     "data": {
      "text/plain": [
       "[<tf.Tensor 'reshape/Identity:0' shape=(None, 3) dtype=float32>,\n",
       " <tf.Tensor 'reshape_1/Identity:0' shape=(None, 2) dtype=float32>,\n",
       " <tf.Tensor 'reshape_2/Identity:0' shape=(None, 5) dtype=float32>,\n",
       " <tf.Tensor 'reshape_3/Identity:0' shape=(None, 7) dtype=float32>,\n",
       " <tf.Tensor 'reshape_4/Identity:0' shape=(None, 2) dtype=float32>,\n",
       " <tf.Tensor 'reshape_5/Identity:0' shape=(None, 2) dtype=float32>,\n",
       " <tf.Tensor 'reshape_6/Identity:0' shape=(None, 5) dtype=float32>,\n",
       " <tf.Tensor 'reshape_7/Identity:0' shape=(None, 2) dtype=float32>,\n",
       " <tf.Tensor 'reshape_8/Identity:0' shape=(None, 8) dtype=float32>,\n",
       " <tf.Tensor 'reshape_9/Identity:0' shape=(None, 2) dtype=float32>,\n",
       " <tf.Tensor 'reshape_10/Identity:0' shape=(None, 3) dtype=float32>,\n",
       " <tf.Tensor 'reshape_11/Identity:0' shape=(None, 2) dtype=float32>,\n",
       " <tf.Tensor 'reshape_12/Identity:0' shape=(None, 10) dtype=float32>,\n",
       " <tf.Tensor 'dense/Identity:0' shape=(None, 16) dtype=float32>]"
      ]
     },
     "execution_count": 24,
     "metadata": {},
     "output_type": "execute_result"
    }
   ],
   "source": [
    "embeddings"
   ]
  },
  {
   "cell_type": "markdown",
   "metadata": {},
   "source": [
    "## MLP model"
   ]
  },
  {
   "cell_type": "code",
   "execution_count": 17,
   "metadata": {
    "ExecuteTime": {
     "end_time": "2019-08-24T12:34:44.273610Z",
     "start_time": "2019-08-24T12:34:44.056018Z"
    }
   },
   "outputs": [],
   "source": [
    "x = Concatenate()(embeddings)\n",
    "x = Dense(80, activation='relu')(x)\n",
    "x = Dropout(.35)(x)\n",
    "x = Dense(20, activation='relu')(x)\n",
    "x = Dropout(.15)(x)\n",
    "x = Dense(10, activation='relu')(x)\n",
    "x = Dropout(.15)(x)\n",
    "output = Dense(1, activation='sigmoid')(x)\n",
    "\n",
    "model = Model(inputs, output)\n",
    "\n",
    "model.compile(loss='binary_crossentropy', optimizer='adam', metrics=['accuracy'])"
   ]
  },
  {
   "cell_type": "code",
   "execution_count": 18,
   "metadata": {
    "ExecuteTime": {
     "end_time": "2019-08-24T12:34:44.283911Z",
     "start_time": "2019-08-24T12:34:44.275223Z"
    }
   },
   "outputs": [
    {
     "name": "stdout",
     "output_type": "stream",
     "text": [
      "Model: \"model\"\n",
      "__________________________________________________________________________________________________\n",
      "Layer (type)                    Output Shape         Param #     Connected to                     \n",
      "==================================================================================================\n",
      "input_1 (InputLayer)            [(None, 1)]          0                                            \n",
      "__________________________________________________________________________________________________\n",
      "input_2 (InputLayer)            [(None, 1)]          0                                            \n",
      "__________________________________________________________________________________________________\n",
      "input_3 (InputLayer)            [(None, 1)]          0                                            \n",
      "__________________________________________________________________________________________________\n",
      "input_4 (InputLayer)            [(None, 1)]          0                                            \n",
      "__________________________________________________________________________________________________\n",
      "input_5 (InputLayer)            [(None, 1)]          0                                            \n",
      "__________________________________________________________________________________________________\n",
      "input_6 (InputLayer)            [(None, 1)]          0                                            \n",
      "__________________________________________________________________________________________________\n",
      "input_7 (InputLayer)            [(None, 1)]          0                                            \n",
      "__________________________________________________________________________________________________\n",
      "input_8 (InputLayer)            [(None, 1)]          0                                            \n",
      "__________________________________________________________________________________________________\n",
      "input_9 (InputLayer)            [(None, 1)]          0                                            \n",
      "__________________________________________________________________________________________________\n",
      "input_10 (InputLayer)           [(None, 1)]          0                                            \n",
      "__________________________________________________________________________________________________\n",
      "input_11 (InputLayer)           [(None, 1)]          0                                            \n",
      "__________________________________________________________________________________________________\n",
      "input_12 (InputLayer)           [(None, 1)]          0                                            \n",
      "__________________________________________________________________________________________________\n",
      "input_13 (InputLayer)           [(None, 1)]          0                                            \n",
      "__________________________________________________________________________________________________\n",
      "embedding (Embedding)           (None, 1, 3)         15          input_1[0][0]                    \n",
      "__________________________________________________________________________________________________\n",
      "embedding_1 (Embedding)         (None, 1, 2)         6           input_2[0][0]                    \n",
      "__________________________________________________________________________________________________\n",
      "embedding_2 (Embedding)         (None, 1, 5)         40          input_3[0][0]                    \n",
      "__________________________________________________________________________________________________\n",
      "embedding_3 (Embedding)         (None, 1, 7)         91          input_4[0][0]                    \n",
      "__________________________________________________________________________________________________\n",
      "embedding_4 (Embedding)         (None, 1, 2)         6           input_5[0][0]                    \n",
      "__________________________________________________________________________________________________\n",
      "embedding_5 (Embedding)         (None, 1, 2)         6           input_6[0][0]                    \n",
      "__________________________________________________________________________________________________\n",
      "embedding_6 (Embedding)         (None, 1, 5)         50          input_7[0][0]                    \n",
      "__________________________________________________________________________________________________\n",
      "embedding_7 (Embedding)         (None, 1, 2)         6           input_8[0][0]                    \n",
      "__________________________________________________________________________________________________\n",
      "embedding_8 (Embedding)         (None, 1, 8)         144         input_9[0][0]                    \n",
      "__________________________________________________________________________________________________\n",
      "embedding_9 (Embedding)         (None, 1, 2)         6           input_10[0][0]                   \n",
      "__________________________________________________________________________________________________\n",
      "embedding_10 (Embedding)        (None, 1, 3)         18          input_11[0][0]                   \n",
      "__________________________________________________________________________________________________\n",
      "embedding_11 (Embedding)        (None, 1, 2)         6           input_12[0][0]                   \n",
      "__________________________________________________________________________________________________\n",
      "embedding_12 (Embedding)        (None, 1, 10)        1040        input_13[0][0]                   \n",
      "__________________________________________________________________________________________________\n",
      "input_14 (InputLayer)           [(None, 24)]         0                                            \n",
      "__________________________________________________________________________________________________\n",
      "reshape (Reshape)               (None, 3)            0           embedding[0][0]                  \n",
      "__________________________________________________________________________________________________\n",
      "reshape_1 (Reshape)             (None, 2)            0           embedding_1[0][0]                \n",
      "__________________________________________________________________________________________________\n",
      "reshape_2 (Reshape)             (None, 5)            0           embedding_2[0][0]                \n",
      "__________________________________________________________________________________________________\n",
      "reshape_3 (Reshape)             (None, 7)            0           embedding_3[0][0]                \n",
      "__________________________________________________________________________________________________\n",
      "reshape_4 (Reshape)             (None, 2)            0           embedding_4[0][0]                \n",
      "__________________________________________________________________________________________________\n",
      "reshape_5 (Reshape)             (None, 2)            0           embedding_5[0][0]                \n",
      "__________________________________________________________________________________________________\n",
      "reshape_6 (Reshape)             (None, 5)            0           embedding_6[0][0]                \n",
      "__________________________________________________________________________________________________\n",
      "reshape_7 (Reshape)             (None, 2)            0           embedding_7[0][0]                \n",
      "__________________________________________________________________________________________________\n",
      "reshape_8 (Reshape)             (None, 8)            0           embedding_8[0][0]                \n",
      "__________________________________________________________________________________________________\n",
      "reshape_9 (Reshape)             (None, 2)            0           embedding_9[0][0]                \n",
      "__________________________________________________________________________________________________\n",
      "reshape_10 (Reshape)            (None, 3)            0           embedding_10[0][0]               \n",
      "__________________________________________________________________________________________________\n",
      "reshape_11 (Reshape)            (None, 2)            0           embedding_11[0][0]               \n",
      "__________________________________________________________________________________________________\n",
      "reshape_12 (Reshape)            (None, 10)           0           embedding_12[0][0]               \n",
      "__________________________________________________________________________________________________\n",
      "dense (Dense)                   (None, 16)           400         input_14[0][0]                   \n",
      "__________________________________________________________________________________________________\n",
      "concatenate (Concatenate)       (None, 69)           0           reshape[0][0]                    \n",
      "                                                                 reshape_1[0][0]                  \n",
      "                                                                 reshape_2[0][0]                  \n",
      "                                                                 reshape_3[0][0]                  \n",
      "                                                                 reshape_4[0][0]                  \n",
      "                                                                 reshape_5[0][0]                  \n",
      "                                                                 reshape_6[0][0]                  \n",
      "                                                                 reshape_7[0][0]                  \n",
      "                                                                 reshape_8[0][0]                  \n",
      "                                                                 reshape_9[0][0]                  \n",
      "                                                                 reshape_10[0][0]                 \n",
      "                                                                 reshape_11[0][0]                 \n",
      "                                                                 reshape_12[0][0]                 \n",
      "                                                                 dense[0][0]                      \n",
      "__________________________________________________________________________________________________\n",
      "dense_1 (Dense)                 (None, 80)           5600        concatenate[0][0]                \n",
      "__________________________________________________________________________________________________\n",
      "dropout (Dropout)               (None, 80)           0           dense_1[0][0]                    \n",
      "__________________________________________________________________________________________________\n",
      "dense_2 (Dense)                 (None, 20)           1620        dropout[0][0]                    \n",
      "__________________________________________________________________________________________________\n",
      "dropout_1 (Dropout)             (None, 20)           0           dense_2[0][0]                    \n",
      "__________________________________________________________________________________________________\n",
      "dense_3 (Dense)                 (None, 10)           210         dropout_1[0][0]                  \n",
      "__________________________________________________________________________________________________\n",
      "dropout_2 (Dropout)             (None, 10)           0           dense_3[0][0]                    \n",
      "__________________________________________________________________________________________________\n",
      "dense_4 (Dense)                 (None, 1)            11          dropout_2[0][0]                  \n",
      "==================================================================================================\n",
      "Total params: 9,275\n",
      "Trainable params: 9,275\n",
      "Non-trainable params: 0\n",
      "__________________________________________________________________________________________________\n"
     ]
    }
   ],
   "source": [
    "model.summary()"
   ]
  },
  {
   "cell_type": "markdown",
   "metadata": {},
   "source": [
    "Convert data to list format to match the network structure. Map unique values into index."
   ]
  },
  {
   "cell_type": "code",
   "execution_count": 19,
   "metadata": {
    "ExecuteTime": {
     "end_time": "2019-08-24T12:34:44.473442Z",
     "start_time": "2019-08-24T12:34:44.285692Z"
    }
   },
   "outputs": [],
   "source": [
    "input_list_train = []\n",
    "\n",
    "for c in embed_cols:\n",
    "    raw_vals = np.unique(X_train[c])\n",
    "    val_map = {}\n",
    "    for i in range(len(raw_vals)):\n",
    "        val_map[raw_vals[i]] = i       \n",
    "    input_list_train.append(X_train[c].map(val_map).values)"
   ]
  },
  {
   "cell_type": "code",
   "execution_count": 20,
   "metadata": {
    "ExecuteTime": {
     "end_time": "2019-08-24T12:34:44.485587Z",
     "start_time": "2019-08-24T12:34:44.475307Z"
    }
   },
   "outputs": [
    {
     "data": {
      "text/plain": [
       "array([0, 1, 2, 3, 4, 5, 6, 7])"
      ]
     },
     "execution_count": 20,
     "metadata": {},
     "output_type": "execute_result"
    }
   ],
   "source": [
    "np.unique(input_list_train[2])"
   ]
  },
  {
   "cell_type": "markdown",
   "metadata": {},
   "source": [
    "Let's package it into a function"
   ]
  },
  {
   "cell_type": "code",
   "execution_count": 21,
   "metadata": {
    "ExecuteTime": {
     "end_time": "2019-08-24T12:34:44.492108Z",
     "start_time": "2019-08-24T12:34:44.487511Z"
    }
   },
   "outputs": [],
   "source": [
    "def preproc(X_train):\n",
    "\n",
    "    input_list_train = []\n",
    "    \n",
    "    #the cols to be embedded: rescaling to range [0, # values)\n",
    "    for c in embed_cols:\n",
    "        raw_vals = np.unique(X_train[c])\n",
    "        val_map = {}\n",
    "        for i in range(len(raw_vals)):\n",
    "            val_map[raw_vals[i]] = i       \n",
    "        input_list_train.append(X_train[c].map(val_map).values)\n",
    "     \n",
    "    #the rest of the columns\n",
    "    other_cols = [c for c in X_train.columns if (not c in embed_cols)]\n",
    "    input_list_train.append(X_train[other_cols].values)\n",
    "    \n",
    "    return input_list_train"
   ]
  },
  {
   "cell_type": "code",
   "execution_count": 22,
   "metadata": {
    "ExecuteTime": {
     "end_time": "2019-08-24T12:34:44.779233Z",
     "start_time": "2019-08-24T12:34:44.494116Z"
    }
   },
   "outputs": [
    {
     "data": {
      "text/plain": [
       "[array([2, 1, 4, ..., 1, 2, 1]),\n",
       " array([2, 1, 2, ..., 1, 2, 1]),\n",
       " array([1, 1, 1, ..., 1, 1, 1]),\n",
       " array([11, 12,  8, ...,  8, 12,  8]),\n",
       " array([2, 2, 2, ..., 2, 2, 1]),\n",
       " array([0, 0, 0, ..., 0, 0, 0]),\n",
       " array([0, 0, 0, ..., 0, 0, 0]),\n",
       " array([2, 0, 0, ..., 0, 0, 0]),\n",
       " array([ 4, 11, 14, ...,  1, 11,  0]),\n",
       " array([2, 2, 2, ..., 2, 2, 2]),\n",
       " array([1, 3, 3, ..., 3, 3, 3]),\n",
       " array([1, 1, 1, ..., 1, 1, 1]),\n",
       " array([ 11,  18,  59, ...,  30, 100,  33]),\n",
       " array([[ 2.        ,  5.        ,  0.        , ...,  0.88367892,\n",
       "          0.37080992,  3.60555128],\n",
       "        [ 1.        ,  7.        ,  0.        , ...,  0.61881652,\n",
       "          0.38871583,  2.44948974],\n",
       "        [ 5.        ,  9.        ,  0.        , ...,  0.64158572,\n",
       "          0.34727511,  3.31662479],\n",
       "        ...,\n",
       "        [ 1.        , 10.        ,  1.        , ...,  0.59637334,\n",
       "          0.39874804,  1.73205081],\n",
       "        [ 5.        ,  3.        ,  0.        , ...,  0.76443411,\n",
       "          0.38496753,  3.16227766],\n",
       "        [ 0.        ,  8.        ,  1.        , ...,  0.9326493 ,\n",
       "          0.37802116,  3.74165739]])]"
      ]
     },
     "execution_count": 22,
     "metadata": {},
     "output_type": "execute_result"
    }
   ],
   "source": [
    "proc_X_train_f = preproc(X_train)\n",
    "proc_X_train_f"
   ]
  },
  {
   "cell_type": "code",
   "execution_count": 23,
   "metadata": {
    "ExecuteTime": {
     "end_time": "2019-08-24T12:34:53.040546Z",
     "start_time": "2019-08-24T12:34:44.781372Z"
    },
    "scrolled": true
   },
   "outputs": [
    {
     "name": "stderr",
     "output_type": "stream",
     "text": [
      "WARNING: Logging before flag parsing goes to stderr.\n",
      "W0824 08:34:44.864946 140735802639232 deprecation.py:323] From /Users/jodie/anaconda3/lib/python3.7/site-packages/tensorflow/python/ops/math_grad.py:1250: add_dispatch_support.<locals>.wrapper (from tensorflow.python.ops.array_ops) is deprecated and will be removed in a future version.\n",
      "Instructions for updating:\n",
      "Use tf.where in 2.0, which has the same broadcast rule as np.where\n"
     ]
    },
    {
     "name": "stdout",
     "output_type": "stream",
     "text": [
      "Train on 595212 samples\n",
      "Epoch 1/3\n",
      "595212/595212 [==============================] - 3s 5us/sample - loss: 0.2483 - accuracy: 0.9481\n",
      "Epoch 2/3\n",
      "595212/595212 [==============================] - 2s 3us/sample - loss: 0.1747 - accuracy: 0.9635\n",
      "Epoch 3/3\n",
      "595212/595212 [==============================] - 2s 3us/sample - loss: 0.1676 - accuracy: 0.9635\n"
     ]
    },
    {
     "data": {
      "text/plain": [
       "<tensorflow.python.keras.callbacks.History at 0x1a4619f910>"
      ]
     },
     "execution_count": 23,
     "metadata": {},
     "output_type": "execute_result"
    }
   ],
   "source": [
    "model.fit(proc_X_train_f, y_train.values,epochs=3, batch_size=4096)"
   ]
  },
  {
   "cell_type": "code",
   "execution_count": null,
   "metadata": {},
   "outputs": [],
   "source": []
  },
  {
   "cell_type": "code",
   "execution_count": null,
   "metadata": {},
   "outputs": [],
   "source": []
  }
 ],
 "metadata": {
  "kernelspec": {
   "display_name": "Python 3",
   "language": "python",
   "name": "python3"
  },
  "language_info": {
   "codemirror_mode": {
    "name": "ipython",
    "version": 3
   },
   "file_extension": ".py",
   "mimetype": "text/x-python",
   "name": "python",
   "nbconvert_exporter": "python",
   "pygments_lexer": "ipython3",
   "version": "3.7.4"
  },
  "toc": {
   "base_numbering": 1,
   "nav_menu": {},
   "number_sections": true,
   "sideBar": true,
   "skip_h1_title": false,
   "title_cell": "Table of Contents",
   "title_sidebar": "Contents",
   "toc_cell": false,
   "toc_position": {},
   "toc_section_display": true,
   "toc_window_display": false
  }
 },
 "nbformat": 4,
 "nbformat_minor": 2
}
