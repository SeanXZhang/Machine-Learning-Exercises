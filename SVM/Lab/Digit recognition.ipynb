{
 "cells": [
  {
   "cell_type": "markdown",
   "metadata": {
    "colab_type": "text",
    "id": "DD94p001bnyv"
   },
   "source": [
    "# Using SVM for Digit Recognition"
   ]
  },
  {
   "cell_type": "markdown",
   "metadata": {
    "colab_type": "text",
    "id": "M5XhVLZpbnyx"
   },
   "source": [
    "[MNIST database](https://en.wikipedia.org/wiki/MNIST_database) is a classic benchmarking dataset for evaluating hand-written digit recognition. In this lab, we'll use Support Vector Classification implemented in the scikit-learn module to create a simple model, that determines the digit according to the given pixel data. "
   ]
  },
  {
   "cell_type": "code",
   "execution_count": 1,
   "metadata": {
    "ExecuteTime": {
     "end_time": "2019-07-19T15:43:20.682900Z",
     "start_time": "2019-07-19T15:43:16.223846Z"
    },
    "colab": {},
    "colab_type": "code",
    "id": "_bVowRTQbnyz"
   },
   "outputs": [],
   "source": [
    "%matplotlib inline\n",
    "\n",
    "import matplotlib.pyplot as plt\n",
    "from sklearn import datasets, svm, metrics\n",
    "\n",
    "# The digits dataset\n",
    "digits = datasets.load_digits()"
   ]
  },
  {
   "cell_type": "code",
   "execution_count": 2,
   "metadata": {
    "ExecuteTime": {
     "end_time": "2019-07-19T15:43:22.106255Z",
     "start_time": "2019-07-19T15:43:22.103103Z"
    },
    "colab": {},
    "colab_type": "code",
    "id": "fFTvGXeqbny3",
    "outputId": "ba9b167c-71ee-4365-c534-b731676cad80"
   },
   "outputs": [
    {
     "name": "stdout",
     "output_type": "stream",
     "text": [
      "1797 1797\n"
     ]
    }
   ],
   "source": [
    "print(len(digits.images), len(digits.target))"
   ]
  },
  {
   "cell_type": "markdown",
   "metadata": {
    "colab_type": "text",
    "id": "adsO8DBYbny_"
   },
   "source": [
    "The data that we are interested in is made of 8x8 images of digits, let's have a look at the first 10 images, stored in the `images` attribute of the dataset.  If we were working from image files, we could load them using `matplotlib.pyplot.imread`.  Note that each image must have the same size. For these images, we know which digit they represent: it is given in the `target` of the dataset."
   ]
  },
  {
   "cell_type": "code",
   "execution_count": 3,
   "metadata": {
    "ExecuteTime": {
     "end_time": "2019-07-19T15:43:44.010754Z",
     "start_time": "2019-07-19T15:43:43.660312Z"
    },
    "colab": {},
    "colab_type": "code",
    "id": "glrFoKv3bnzA",
    "outputId": "276a2fc7-ef0b-4cbc-9bef-6aab54d1e01b"
   },
   "outputs": [
    {
     "data": {
      "image/png": "[encoded data removed]",
      "text/plain": [
       "<Figure size 432x288 with 10 Axes>"
      ]
     },
     "metadata": {
      "needs_background": "light"
     },
     "output_type": "display_data"
    }
   ],
   "source": [
    "images_and_labels = list(zip(digits.images, digits.target))\n",
    "\n",
    "for index, (image, label) in enumerate(images_and_labels[:10]):\n",
    "    plt.subplot(2, 10, index + 1)\n",
    "    plt.axis('off')\n",
    "    plt.imshow(image, cmap=plt.cm.gray_r, interpolation='nearest')\n",
    "    plt.title('%i' % label)"
   ]
  },
  {
   "cell_type": "code",
   "execution_count": 4,
   "metadata": {
    "ExecuteTime": {
     "end_time": "2019-07-19T15:44:01.487817Z",
     "start_time": "2019-07-19T15:44:01.484650Z"
    },
    "colab": {},
    "colab_type": "code",
    "id": "WF93L_1dbnzE",
    "outputId": "59c45270-ba7b-4dbe-ef75-a55e2814096b"
   },
   "outputs": [
    {
     "name": "stdout",
     "output_type": "stream",
     "text": [
      "(1797, 8, 8)\n",
      "(1797, 64)\n"
     ]
    }
   ],
   "source": [
    "n_samples = len(digits.images)\n",
    "print(digits.images.shape)\n",
    "data = digits.images.reshape((n_samples, -1))\n",
    "print(data.shape)"
   ]
  },
  {
   "cell_type": "code",
   "execution_count": null,
   "metadata": {},
   "outputs": [],
   "source": []
  }
 ],
 "metadata": {
  "colab": {
   "name": "Digit recognition.ipynb",
   "provenance": [],
   "version": "0.3.2"
  },
  "kernelspec": {
   "display_name": "Python 3",
   "language": "python",
   "name": "python3"
  },
  "language_info": {
   "codemirror_mode": {
    "name": "ipython",
    "version": 3
   },
   "file_extension": ".py",
   "mimetype": "text/x-python",
   "name": "python",
   "nbconvert_exporter": "python",
   "pygments_lexer": "ipython3",
   "version": "3.7.1"
  },
  "toc": {
   "base_numbering": 1,
   "nav_menu": {},
   "number_sections": true,
   "sideBar": true,
   "skip_h1_title": false,
   "title_cell": "Table of Contents",
   "title_sidebar": "Contents",
   "toc_cell": false,
   "toc_position": {},
   "toc_section_display": true,
   "toc_window_display": false
  }
 },
 "nbformat": 4,
 "nbformat_minor": 1
}
